{
 "cells": [
  {
   "cell_type": "markdown",
   "metadata": {},
   "source": [
    "# Day 4 - An Introduction to Machine Learning\n",
    "\n",
    "## Introduction\n",
    "\n",
    "\n",
    "In today's Day 4 tutorial you will be learning some basics about machine learning and neural networks.\n",
    "\n",
    "### What are neural networks?\n",
    "\n",
    "Neural networks (NN), also known as artificial neural networks (ANNs) or simulated neural networks (SNNs), are a subset of machine learning and are at the heart of deep learning algorithms. The concept of neural networks lies at the intersection of mathetics and computational programming. Their name and structure are inspired by the human brain, mimicking the way that biological neurons signal to one another to process input and recognize patterns.\n",
    "\n",
    "Artificial neural networks (ANNs) are comprised of **node layers**, containing an input layer, one or more hidden layers, and an output layer. Each node, or artificial \"neuron\", connects to another and has an associated weight and threshold. If the output of any individual node is above the specified threshold value, that node is activated, sending data to the next layer of the network. Otherwise, no data is passed along to the next layer of the network.\n",
    "\n",
    "Simply put: neural networks are effectively computer programs created to recognize patterns and solve common problems in the fields of artificial intelligence, machine learning, and deep learning. \n",
    "\n",
    "In today's example we will be constructing and training a very simple neural network program to classify flowers.\n",
    "\n",
    "### Outline\n",
    "\n",
    "Over the course of this tutorial, you will explore:\n",
    "\n",
    "- the basic structure of neural networks\n",
    "- linear and non-linear seperability of a sample\n",
    "- activation and sigmoid functions\n",
    "- the importance of training data\n",
    "- how to construct a basic NN in Python"
   ]
  },
  {
   "cell_type": "markdown",
   "metadata": {},
   "source": [
    "## Let's Get Started\n",
    "\n",
    "Imagine that you own a flower farm with many fields of various types of flowers. Visiting each field to monitor the growth of your crops takes a lot of time and energy (you own lots of land!) and so your goal is to develop a method for monitoring your crops remotely.\n",
    "\n",
    "You devise a plan to accomplish this by using a drone to take images of your fields which you can then examine to keep track of how many of each type of flower you have in stock.\n",
    "\n",
    "You decide to test this plan on a beautiful field of red poppies and purple cornflowers nearby.\n",
    "\n",
    "<img src=\"imgs/field_of_flowers.jpg\" alt=\"Alternative text\" />"
   ]
  },
  {
   "cell_type": "markdown",
   "metadata": {},
   "source": [
    "***\n",
    "\n",
    "#### Q - Describe below how a computer program might be able to identify differences between poppies and cornflowers in the drone images. What are some simple but identifying characteristics between these two types of flowers?\n",
    "\n",
    "***\n",
    "\n",
    "Ans. Here\n",
    "\n"
   ]
  },
  {
   "cell_type": "markdown",
   "metadata": {},
   "source": [
    "Some of the characteristics you have identified may include the color and shape of a flower's petal. Cornflowers are purple and have smaller, more elongated petals. By contrast, poppies are bright red and have larger, rounder petals.\n",
    "\n",
    "In this sense, the *color* (c), *length* (l) and *width* (w) of a flower petal can be a helpful way of identifying between the two flower types.\n",
    "\n",
    "You decide to begin your classification journey by using these characteristics, or **parameters** to distinguish between the two species of flowers in your field. You head over to a few of your closest fields to make a table of some parameter values for a sample of petals from these flowers."
   ]
  },
  {
   "cell_type": "code",
   "execution_count": 4,
   "metadata": {},
   "outputs": [],
   "source": [
    "# petal data table; in cm\n",
    "\n",
    "data = [[3,   1.5, 1],\n",
    "        [2,   1,   0],\n",
    "        [4,   1.5, 1],\n",
    "        [3,   1,   0],\n",
    "        [3.5, .5,  1],\n",
    "        [2,   .5,  0],\n",
    "        [5.5,  1,  1],\n",
    "        [1,    1,  0]]"
   ]
  },
  {
   "cell_type": "markdown",
   "metadata": {},
   "source": [
    "In the table above, each row represents the average value measured (in cm) for the petals of flowers in that field. The three columns represent the length, width, and type of flower, respectively. To simplify things, you choose a boolean classification scheme for the last column: a value of 1 indicates a red poppy, whereas a value of 0 indicates a blue cornflower.\n",
    "\n",
    "Later that day, a customer that recently purchased flowers from your shop contacts you requesting to place another order. Unfortunately the customer state they have forgotten the name of the type of flowers they purchased!\n",
    "\n",
    "You realize this presents an excellent test of your flower classification system. You inform to the customer that this is no problem, and all they need to do is email a description of the flower's petals.\n",
    "\n",
    "In response the customer sends along a black and white photo of a petal and info stating that the petal measures roughly 4.5 cm long and 1 cm wide. You enter these parameter values for this mystery flower into your system:"
   ]
  },
  {
   "cell_type": "code",
   "execution_count": 5,
   "metadata": {},
   "outputs": [],
   "source": [
    "mystery_flower = [4.5, 1]   #in cm"
   ]
  },
  {
   "cell_type": "markdown",
   "metadata": {},
   "source": [
    "***\n",
    "\n",
    "#### Q - What parameter identified above is not represented in the data provided by the customer?\n",
    "\n",
    "***\n",
    "\n",
    "Ans. Here"
   ]
  },
  {
   "cell_type": "markdown",
   "metadata": {},
   "source": [
    "You decide to begin by first visualizing your dataset. In the code cell below, construct a matplotlib figure which scatter plots out the data we collected from our fields alongside the values for our mystery flower."
   ]
  },
  {
   "cell_type": "code",
   "execution_count": 6,
   "metadata": {},
   "outputs": [
    {
     "data": {
      "image/png": "[encoded data removed]",
      "text/plain": [
       "<Figure size 432x288 with 1 Axes>"
      ]
     },
     "metadata": {
      "needs_background": "light"
     },
     "output_type": "display_data"
    }
   ],
   "source": [
    "%matplotlib inline\n",
    "from matplotlib import pyplot as plt\n",
    "import numpy as np\n",
    "\n",
    "def vis_data():\n",
    "    plt.grid()\n",
    "\n",
    "    for i in range(len(data)):\n",
    "        c = 'r'\n",
    "        if data[i][2] == 0:\n",
    "            c = 'b'\n",
    "        plt.scatter([data[i][0]], [data[i][1]], c=c)\n",
    "\n",
    "    plt.scatter([mystery_flower[0]], [mystery_flower[1]], c='gray')\n",
    "\n",
    "vis_data()"
   ]
  },
  {
   "cell_type": "markdown",
   "metadata": {},
   "source": [
    "***\n",
    "\n",
    "#### Q - Using your figure above, can you make a prediction for what kind of flower the customer is requesting to order? How confident are you in your prediction? What would make you more/less confident?\n",
    "\n",
    "***\n",
    "\n",
    "Ans. Here"
   ]
  },
  {
   "cell_type": "markdown",
   "metadata": {},
   "source": [
    "Believe it or not, this process of using one dataset to make predictions about another (unknown) dataset is one simple example of how a basic neural network functions. The only real difference here is that in the example above, you used the neuronal network in your brain to visualize the data and make a guess for how to classify the flower. \n",
    "\n",
    "In the case of the neural networks we aim to explore today, this process takes place inside a computer, which presents a number of big advantages. \n",
    "\n",
    "Imagine that you had 100 customers all looking to place similar orders. It would take you quite some time to individually classify each customers petal. Instead, you could program a neural network to use computational power to make a large number of predictions very quickly."
   ]
  },
  {
   "cell_type": "markdown",
   "metadata": {},
   "source": [
    "## Neural Network Structure\n",
    "\n",
    "The basic input/output structure of a simple neural network looks as follows:"
   ]
  },
  {
   "cell_type": "code",
   "execution_count": 7,
   "metadata": {},
   "outputs": [],
   "source": [
    "# network structure\n",
    "\n",
    "#       o  flower type\n",
    "#      / \\  \n",
    "#     o   o  length, width"
   ]
  },
  {
   "cell_type": "markdown",
   "metadata": {},
   "source": [
    "In the diagram above, the **input** is the parameter values *length* and *width*. The **output** is the *flower type*.\n",
    "\n",
    "In reality, the output of a NN is a prediction for the flower type as opposed to a strict classification. In the example above, 0 represented a cornflower and 1 a red poppy. \n",
    "\n",
    "In this case, an output value closer to 1 indicates more likelihood that the flower is indeed a poppy.\n",
    "\n",
    "We can generalize this structure as follows:\n",
    "\n",
    "This input/output structure represents a function, or a relationship between the input and output. In the case of neural networks, part of this relationship is typically represented by something called an **activation function**."
   ]
  },
  {
   "cell_type": "code",
   "execution_count": 8,
   "metadata": {},
   "outputs": [],
   "source": [
    "# network structure\n",
    "\n",
    "#        (O)\n",
    "#       /   \\\n",
    "#      /     \\  \n",
    "#    (M1)   (M2)  "
   ]
  },
  {
   "cell_type": "markdown",
   "metadata": {},
   "source": [
    "Here, M1 and M2 represent the inputs, or \"measurement 1\" and \"measurement 2\". The arms connecting these measurements to the output are typically referred to as the respective \"weights\" of these values within the neural network (W1 & W2).\n",
    "\n",
    "The mathematical connection between the input and output is simply a weighted sum of the inputs. In other words, the NN function is:"
   ]
  },
  {
   "cell_type": "markdown",
   "metadata": {},
   "source": [
    "<h2><center>NN(M1, M2) = (M1 * W1) + (M2 * W2) + B</center></h2>"
   ]
  },
  {
   "cell_type": "markdown",
   "metadata": {},
   "source": [
    "Here, B is what is known as the \"bias\", and in short it ensures that the prediction by the neural network is not based solely on just these two measurements. But more on this to come later!\n",
    "\n",
    "Because we know we want our output to fall somewhere 0 and 1, we will utilize something called the **sigmoid function**."
   ]
  },
  {
   "cell_type": "markdown",
   "metadata": {},
   "source": [
    "### Sigmoid Function\n",
    "\n",
    "Whether you develop a neural network yourself or you use a built in library for neural network learning, it is really important to understand the significance of a sigmoid function. The sigmoid function is the key to understanding how a neural network learns complex problems and makes predictions. This function has also served as a basis for discovering other functions that lead to efficient and good solutions for supervised learning in deep learning architectures.\n",
    "\n",
    "The sigmoid function is a special form of the logistic function and is usually denoted by σ(x) or sig(x). It is given by:"
   ]
  },
  {
   "cell_type": "code",
   "execution_count": 9,
   "metadata": {},
   "outputs": [],
   "source": [
    "# defining the sigmoid function\n",
    "\n",
    "def sigmoid(x):\n",
    "    return 1/(1+np.exp(-x))"
   ]
  },
  {
   "cell_type": "markdown",
   "metadata": {},
   "source": [
    "We can also define the derivative the sigmoid function (which will become useful later):"
   ]
  },
  {
   "cell_type": "code",
   "execution_count": 10,
   "metadata": {},
   "outputs": [],
   "source": [
    "def d_sigmoid(x):\n",
    "    return sigmoid(x) * (1-sigmoid(x))"
   ]
  },
  {
   "cell_type": "markdown",
   "metadata": {},
   "source": [
    "The graph of sigmoid function is an S-shaped curve as shown by the blue line in the graph below. This figure also shows the graph of its derivative in red."
   ]
  },
  {
   "cell_type": "code",
   "execution_count": 11,
   "metadata": {},
   "outputs": [
    {
     "data": {
      "text/plain": [
       "<matplotlib.legend.Legend at 0x7fda70e48fa0>"
      ]
     },
     "execution_count": 11,
     "metadata": {},
     "output_type": "execute_result"
    },
    {
     "data": {
      "image/png": "[encoded data removed]",
      "text/plain": [
       "<Figure size 432x288 with 1 Axes>"
      ]
     },
     "metadata": {
      "needs_background": "light"
     },
     "output_type": "display_data"
    }
   ],
   "source": [
    "X = np.linspace(-5, 5, 100)\n",
    "\n",
    "plt.plot(X, sigmoid(X), c=\"b\", label=\"Sigmoid Function\") # sigmoid in blue\n",
    "fig = plt.plot(X, d_sigmoid(X), c=\"r\", label=\"Derivative of Sigmoid Function\") # sigmoid_p in red\n",
    "plt.legend()"
   ]
  },
  {
   "cell_type": "markdown",
   "metadata": {},
   "source": [
    "Note: The range of the sigmoid function lies between 0 & 1. This allows us to \"squash\" our output to the desired range 0 --> 1.\n",
    "\n",
    "## Building our NN\n",
    "\n",
    "We incorporate the sigmoid function into our neural network as follows:\n",
    "\n",
    "<h2><center>NN(M1, M2) = sigmoid [(M1 * W1) + (M2 * W2) + B]</center></h2>\n",
    "\n",
    "Here, we've simply popped in our weighted average of the points (plus the bias) into our sigmoid function.\n",
    "\n",
    "Let's begin by first assuming random values for the W1, W2, and B parameters in our neural network. \n",
    "\n",
    "(Another way of thinking about this is by assuming that all the *connections* in our neural network's computer brain are random!)\n",
    "\n",
    "In the cell below, write a block of code which computes NN(2, 1) assuming W1, W2, and B have random values."
   ]
  },
  {
   "cell_type": "code",
   "execution_count": 29,
   "metadata": {},
   "outputs": [
    {
     "name": "stdout",
     "output_type": "stream",
     "text": [
      "0.9984071133839796\n"
     ]
    }
   ],
   "source": [
    "M1 = 2.\n",
    "M2 = 1.\n",
    "W1 = np.random.randn()\n",
    "W2 = np.random.randn()\n",
    "B = np.random.randn()\n",
    "\n",
    "X = (M1 * W1) + (M2 * W2) + B\n",
    "\n",
    "print(sigmoid(X))"
   ]
  },
  {
   "cell_type": "markdown",
   "metadata": {},
   "source": [
    "***\n",
    "\n",
    "#### Q - What kind of flower does the NN predict this type of petal belongs to? Does this make sense given your figure above?\n",
    "\n",
    "***\n",
    "\n",
    "Ans. Here"
   ]
  },
  {
   "cell_type": "markdown",
   "metadata": {},
   "source": [
    "We decided before that for numbers closer to 1, the computer predicts this petal belongs to a red flower. However, if you look at the table above, we know these measurements belong to a blue flower. Hmm.. what's going on?\n",
    "\n",
    "***\n",
    "\n",
    "#### Q - Make some additional predictions using the table of petal values we measured for our fields above? How well does our simple neural network classify these flowers?\n",
    "\n",
    "***\n",
    "\n",
    "Ans. Here"
   ]
  },
  {
   "cell_type": "markdown",
   "metadata": {},
   "source": [
    "Remember that the connections (e.g. the weights and bias) inside our computer's \"brain\" right now are entirely random! What we need to do next is to help *train* our computer brain to do a better job of making predictions.\n",
    "\n",
    "We can do this training using the dataset we have in hand. This allows us to basically provide our computer brain with a bunch of known examples and teach it to make better predictions. Another term for this method of training is called **back propagation**.\n",
    "\n",
    "## Squared Error Cost Function\n",
    "\n",
    "So what we want to do next is implement something called a **cost function**.\n",
    "\n",
    "A cost function takes in data (in our case, petal measurements) and past predictions made on that data by our NN, and uses this information to spit out a number which represents the *quality* of those predictions (how far our predictions are from where they should be).\n",
    "\n",
    "Cost functions effectively measure the performance of a machine learning model for a given dataset. Cost function quantifies the error between predicted values and expected values and presents it in the form of a single real number. \n",
    "\n",
    "The purpose of Cost Function is to be either:\n",
    "\n",
    " - **Minimized** - The goal is to find the values of model parameters for which Cost Function return as small number as possible.\n",
    "\n",
    " - **Maximized** - The goal is to find values of model parameters for which returned number is as large as possible.\n",
    "\n",
    "The only thing we can really do to change the output of our cost function is to change our predictions, which depends on the data and the weights and biases. We can define our cost function as follows:\n",
    "\n",
    "<h2><center>Cost = (prediction - target)^2</center></h2>\n",
    "\n",
    "This is what is referred to as the **squared error cost function**. Here, we want to *minimize* the values (i.e. the difference between our model predictions and data) output by our cost function. \n",
    "\n",
    "You should recall from previous notebooks (Day 3?) that linear regression has very similar goals and attempts to model the relationship between two variables by fitting a linear equation to observed data. Fitting models allows us to predict the value of a variable based on the value of another variable.\n",
    "\n",
    "Our neural network function NN() described above is essentially a model we are using to describe our dataset and make predictions. Therefore, we can use principles from linear regression analysis (and calculus!) to define a pathway towards minimizing our cost function and, therefore, improving our model performance.\n",
    "\n",
    "Here, W1, W2, and B are the parameters of our data model which we will vary in order to minimize the cost function.\n",
    "\n",
    "Let's explore an example in which we use the table of petals values measured from our fields above to train our simple neural network."
   ]
  },
  {
   "cell_type": "markdown",
   "metadata": {},
   "source": [
    "In the cell below, write a code block which calculates NN(M1, M2) for the flower petals in the data table above, assuming random parameter model values."
   ]
  },
  {
   "cell_type": "code",
   "execution_count": 52,
   "metadata": {},
   "outputs": [
    {
     "name": "stdout",
     "output_type": "stream",
     "text": [
      "[3, 1.5, 1]\n",
      "2.0292794110914027e-09\n",
      "[2, 1, 0]\n",
      "0.9968167640557306\n",
      "[4, 1.5, 1]\n",
      "8.674779748205576e-13\n",
      "[3, 1, 0]\n",
      "0.9999340332863274\n",
      "[3.5, 0.5, 1]\n",
      "1.2059255946087063e-11\n",
      "[2, 0.5, 0]\n",
      "0.9976677635810113\n",
      "[5.5, 1, 1]\n",
      "4.109872793885451e-18\n",
      "[1, 1, 0]\n",
      "0.8618526037290055\n"
     ]
    }
   ],
   "source": [
    "#estimating the sigmoid function for our measured petal values\n",
    "\n",
    "for i in range(len(data)):\n",
    "    flr = data[i]\n",
    "    \n",
    "    wt_sum = flr[0]*W1 + flr[1]*W2 + B\n",
    "    pred = sigmoid(wt_sum)\n",
    "    \n",
    "    target = flr[2]\n",
    "    \n",
    "    cost = np.square(pred - target)\n",
    "\n",
    "    print(flr)\n",
    "    print(cost)"
   ]
  },
  {
   "cell_type": "markdown",
   "metadata": {},
   "source": [
    "As observed before, with random model values, our NN doesn't do a great job of classifying our flowers. Let's start to train it.\n",
    " \n",
    "\n",
    "## Training our Neural Network\n",
    "\n",
    "Recall that the goal here is to MINIMIZE our cost function. \n",
    "\n",
    "From calculus, we know that:\n",
    " - the derivative of a function gives us the slope of the line tangent to the function at any point on the graph\n",
    " - when a function's slope is zero at x, and the second derivative at x is less than 0, it is a local maximum. If the second derivative at x is greater than 0, it is a local minimum.\n",
    " - when dealing with multi-variate equations (functions of more than one variable or input) this derivative is often referred to as the *gradient*.\n",
    "\n",
    "Imagine you are at the top of a mountain and want to descend. There may be many available paths, but you want to reach the bottom with a minimum number of steps. How can you come up with a solution? To answer that question, we will solve the gradient descent problem. \n",
    "\n",
    "**Gradient descent** is one of the simplest algorithms that is used, not only in linear regression but in many aspects of machine learning. Gradient descent algorithm’s main objective is to minimize the cost function and zt is one of the best optimization algorithms to minimize errors (difference of actual value and predicted value).\n",
    " \n",
    "We'll be working here through a process similar that explored in the Day 3 notebook on linear regression. (Obviously one main difference here is that linear regression uses Least Squared Error as a cost function that gives a convex loss function which we then go on to complete the optimization by finding its vertex as a global minimum.)\n",
    "\n",
    "So the first step here in trying to work our way towards the local or global minimum of the cost function is to first compute the gradient of the cost function. in fact, the derivative of the cost function is referred to as the cost function gradient. As we move along the cost function gradient, the cost function will continue to decrease until we reach a global (or local) minimum.\n",
    "\n",
    "To simplify things let's first rename our weighted sum to the variable z:"
   ]
  },
  {
   "cell_type": "code",
   "execution_count": 37,
   "metadata": {},
   "outputs": [],
   "source": [
    "z = flr[0]*W1 + flr[1]*W2 + B"
   ]
  },
  {
   "cell_type": "markdown",
   "metadata": {},
   "source": [
    "Next we outline a function for minimizing our cost function: \n",
    "\n",
    "First, we select out a random data point (i.e. row in the table) and use the chain rule to compute the gradient of the cost function with respect to each of the independent variables (W1, W2, B) at that point. We then use these computed gradients to update/modify our parameter values and effectively walk our data model down towards the minimum of the cost function. When considering the analogy above, this is similar to taking baby steps down a hill.\n",
    "\n",
    "We aim to iterate through this process until the estimated value of the cost function is minimized.\n",
    "\n",
    "A simple example of this method is provided in the code block below:"
   ]
  },
  {
   "cell_type": "code",
   "execution_count": 47,
   "metadata": {},
   "outputs": [],
   "source": [
    "# a simple training method for our NN\n",
    "\n",
    "def train():\n",
    "    #random init of weights\n",
    "    w1 = np.random.randn()\n",
    "    w2 = np.random.randn()\n",
    "    b = np.random.randn()\n",
    "    \n",
    "    iterations = 10000\n",
    "    learning_rate = 0.1\n",
    "    costs = [] # keep costs during training, see if they go down\n",
    "    \n",
    "    for i in range(iterations):\n",
    "        # get a random point\n",
    "        ri = np.random.randint(len(data))\n",
    "        point = data[ri]\n",
    "        \n",
    "        z = point[0] * w1 + point[1] * w2 + b\n",
    "        pred = sigmoid(z) # networks prediction\n",
    "        \n",
    "        target = point[2]\n",
    "        \n",
    "        # cost for current random point\n",
    "        cost = np.square(pred - target)\n",
    "        \n",
    "        # print the cost over all data points every 1k iters\n",
    "        if i % 100 == 0:\n",
    "            c = 0\n",
    "            for j in range(len(data)):\n",
    "                p = data[j]\n",
    "                p_pred = sigmoid(w1 * p[0] + w2 * p[1] + b)\n",
    "                c += np.square(p_pred - p[2])\n",
    "            costs.append(c)\n",
    "        \n",
    "        dcost_dpred = 2 * (pred - target)\n",
    "        dpred_dz = sigmoid_p(z)\n",
    "        \n",
    "        dz_dw1 = point[0]\n",
    "        dz_dw2 = point[1]\n",
    "        dz_db = 1\n",
    "        \n",
    "        dcost_dz = dcost_dpred * dpred_dz\n",
    "        \n",
    "        dcost_dw1 = dcost_dz * dz_dw1\n",
    "        dcost_dw2 = dcost_dz * dz_dw2\n",
    "        dcost_db = dcost_dz * dz_db\n",
    "        \n",
    "        w1 = w1 - learning_rate * dcost_dw1\n",
    "        w2 = w2 - learning_rate * dcost_dw2\n",
    "        b = b - learning_rate * dcost_db\n",
    "        \n",
    "    return costs, w1, w2, b\n",
    "        \n",
    "costs, w1, w2, b = train()"
   ]
  },
  {
   "cell_type": "markdown",
   "metadata": {},
   "source": [
    "in the cell below, write a code block which displays a graph of the value of the cost function over time."
   ]
  },
  {
   "cell_type": "code",
   "execution_count": 48,
   "metadata": {},
   "outputs": [
    {
     "data": {
      "image/png": "[encoded data removed]",
      "text/plain": [
       "<Figure size 432x288 with 1 Axes>"
      ]
     },
     "metadata": {
      "needs_background": "light"
     },
     "output_type": "display_data"
    }
   ],
   "source": [
    "fig = plt.plot(costs, c=\"g\")"
   ]
  },
  {
   "cell_type": "markdown",
   "metadata": {},
   "source": [
    "***\n",
    "\n",
    "#### Q - What happens as you vary the number of iterations in your loop? How does the figure change? Provide your interpretation of these observations.\n",
    "\n",
    "***\n",
    "\n",
    "Ans. Here"
   ]
  },
  {
   "cell_type": "markdown",
   "metadata": {},
   "source": [
    "***\n",
    "\n",
    "#### Q - Has your cost function been minimized? How do you know?\n",
    "\n",
    "***\n",
    "\n",
    "Ans. Here"
   ]
  },
  {
   "cell_type": "markdown",
   "metadata": {},
   "source": [
    "Now let's try to apply this updated model to predict what kind of flower our customer is looking to buy.\n",
    "\n",
    "Write a block of code in the cell below which performs this task. "
   ]
  },
  {
   "cell_type": "code",
   "execution_count": 49,
   "metadata": {},
   "outputs": [
    {
     "name": "stdout",
     "output_type": "stream",
     "text": [
      "0.9701191213337037\n",
      "close to 0 -> blue, close to 1 -> red\n"
     ]
    }
   ],
   "source": [
    "# predict what the mystery flower is!\n",
    "\n",
    "z = w1 * mystery_flower[0] + w2 * mystery_flower[1] + b\n",
    "pred = sigmoid(z)\n",
    "\n",
    "print(pred)\n",
    "print(\"close to 0 -> blue, close to 1 -> red\")"
   ]
  },
  {
   "cell_type": "markdown",
   "metadata": {},
   "source": [
    "***\n",
    "\n",
    "#### Q - What kind of flower does our trained model predict this type of petal belongs to?\n",
    "\n",
    "***\n",
    "\n",
    "Ans. Here"
   ]
  },
  {
   "cell_type": "markdown",
   "metadata": {},
   "source": [
    "Yes! The model now predicts that this petal belongs to a red poppy flower!\n",
    "\n",
    "<img src=\"imgs/redpoppy.jpg\" alt=\"Alternative text\" />\n",
    "\n",
    "You can see from this that going through the process of training the network has resulted in a much better prediction.\n",
    "\n",
    "We can take this one step further to explore how our network forms prediction for other pairs of independent variables by plotting out the following figure in the x,y plane of parameter space:"
   ]
  },
  {
   "cell_type": "code",
   "execution_count": 51,
   "metadata": {},
   "outputs": [
    {
     "data": {
      "image/png": "[encoded data removed]",
      "text/plain": [
       "<Figure size 432x288 with 1 Axes>"
      ]
     },
     "metadata": {
      "needs_background": "light"
     },
     "output_type": "display_data"
    }
   ],
   "source": [
    "for x in np.linspace(0, 6, 20):\n",
    "    for y in np.linspace(0, 3, 20):\n",
    "        pred = sigmoid(w1 * x + w2 * y + b)\n",
    "        c = 'b'\n",
    "        if pred > .5:\n",
    "            c = 'r'\n",
    "        plt.scatter([x],[y],c=c, alpha=.2)\n",
    "        \n",
    "vis_data()"
   ]
  },
  {
   "cell_type": "markdown",
   "metadata": {
    "collapsed": true
   },
   "source": [
    "Here, we plot the data points of from our measurements in the flower fields (our known dataset in bright red/blue circles) in comparison with predictions across parameter space from our neural network (the slightly faded red/blue circles).\n",
    "\n",
    "What we observe here is that there is a clear (somewhat linear) split in how our network classifies flower petals. Indeed, roughly half the predictions indicate blue flowers and half of them red. We also observe nice overlap between our known data points and our network's range of predictions.\n",
    "\n",
    "## Conclusions\n",
    "\n",
    "This notebook describes one simple example of training a basic neural network. Here, we used the network to classify flowers, but neural networks are used often in astronomy to comb through large datasets and make discoveries. In the next notebook, we will explore an example of using neural networks in an astrophysical context. But before we do that - it's your time to brainstorm:"
   ]
  },
  {
   "cell_type": "markdown",
   "metadata": {},
   "source": [
    "***\n",
    "\n",
    "#### Q - Describe some ways in which you think machine learning may be useful in astronomy research?\n",
    "\n",
    "***\n",
    "\n",
    "Ans. Here"
   ]
  },
  {
   "cell_type": "code",
   "execution_count": null,
   "metadata": {},
   "outputs": [],
   "source": []
  }
 ],
 "metadata": {
  "kernelspec": {
   "display_name": "Python 3",
   "language": "python",
   "name": "python3"
  },
  "language_info": {
   "codemirror_mode": {
    "name": "ipython",
    "version": 3
   },
   "file_extension": ".py",
   "mimetype": "text/x-python",
   "name": "python",
   "nbconvert_exporter": "python",
   "pygments_lexer": "ipython3",
   "version": "3.8.3"
  }
 },
 "nbformat": 4,
 "nbformat_minor": 2
}
