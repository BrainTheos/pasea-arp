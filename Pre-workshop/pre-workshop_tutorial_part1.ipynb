{
 "cells": [
  {
   "cell_type": "markdown",
   "metadata": {},
   "source": [
    "# It's day one and I know nothing — where do I start?\n"
   ]
  },
  {
   "cell_type": "markdown",
   "metadata": {},
   "source": [
    "## A pre-workshop \"bootcamp\" tutorial for the absolute basics of Python in 2 parts\n",
    "## PART 1"
   ]
  },
  {
   "cell_type": "markdown",
   "metadata": {},
   "source": [
    "Welcome. In this tutorial, we're going to work through the absolute basics of the Python programming language. I highly recommend reading Chapter 2 of the [textbook](https://prappleizer.github.io/index.html) either before, or concurrently, with working through this tutorial. It will cover much the same ground, but here you'll get to actively practice the techniques described. \n",
    "\n",
    "Let's start with the concept of a **declaration**. In Python, our primary goal is to perform calculations - you can think of it as an extremely powerful calculator, and indeed, much of what we build in python amounts to pipelines that string simple mathematical computations together and perform them on data. \n",
    "\n",
    "In order to work with more complex data than a pocket calculator (in which we type in the numbers to be computed directly), Python allows us to declare **variables** to store those values for later use. See below:"
   ]
  },
  {
   "cell_type": "code",
   "execution_count": 2,
   "metadata": {},
   "outputs": [],
   "source": [
    "variable_1 = 5"
   ]
  },
  {
   "cell_type": "code",
   "execution_count": 3,
   "metadata": {},
   "outputs": [],
   "source": [
    "variable_2 = 6"
   ]
  },
  {
   "cell_type": "code",
   "execution_count": 4,
   "metadata": {},
   "outputs": [],
   "source": [
    "output = variable_1 + variable_2"
   ]
  },
  {
   "cell_type": "code",
   "execution_count": 5,
   "metadata": {},
   "outputs": [
    {
     "name": "stdout",
     "output_type": "stream",
     "text": [
      "11\n"
     ]
    }
   ],
   "source": [
    "print(output)"
   ]
  },
  {
   "cell_type": "markdown",
   "metadata": {},
   "source": [
    "All I did was store the numbers 5 and 6 into variables (which I lazily and poorly named 'variable_1' and 'variable_2'), and then computed their sum. **Note:** One additional takeaway here is the underscore in the variable names - you cannot have spaces in variable names, so often programmers use underscores when needed. We'll talk later about best practices when naming variables. \n",
    "\n",
    "You might be asking, \"Why did you go through the work of declaring those variables and adding them, when you could've just done:\""
   ]
  },
  {
   "cell_type": "code",
   "execution_count": 6,
   "metadata": {},
   "outputs": [
    {
     "data": {
      "text/plain": [
       "11"
      ]
     },
     "execution_count": 6,
     "metadata": {},
     "output_type": "execute_result"
    }
   ],
   "source": [
    "5 + 6"
   ]
  },
  {
   "cell_type": "markdown",
   "metadata": {},
   "source": [
    "In this particular case, you are absolutely right. If I wanted to know the sum of 5 and 6, I could've just typed it in. Indeed, even if I needed to save that output somewhere, I could've done"
   ]
  },
  {
   "cell_type": "code",
   "execution_count": 7,
   "metadata": {},
   "outputs": [],
   "source": [
    "output2 = 5 + 6"
   ]
  },
  {
   "cell_type": "markdown",
   "metadata": {},
   "source": [
    "And now, I can look at the output at any time:"
   ]
  },
  {
   "cell_type": "code",
   "execution_count": 8,
   "metadata": {},
   "outputs": [
    {
     "name": "stdout",
     "output_type": "stream",
     "text": [
      "11\n"
     ]
    }
   ],
   "source": [
    "print(output2)"
   ]
  },
  {
   "cell_type": "markdown",
   "metadata": {},
   "source": [
    "Or, I can use it in further calculations:"
   ]
  },
  {
   "cell_type": "code",
   "execution_count": 9,
   "metadata": {},
   "outputs": [],
   "source": [
    "output3 = output2 * 5"
   ]
  },
  {
   "cell_type": "code",
   "execution_count": null,
   "metadata": {},
   "outputs": [
    {
     "name": "stdout",
     "output_type": "stream",
     "text": [
      "55\n"
     ]
    }
   ],
   "source": [
    "print(output3)"
   ]
  },
  {
   "cell_type": "markdown",
   "metadata": {},
   "source": [
    "Now might be a good time to go over the native mathematical operations available to you in Python (we've seen 2 so far). "
   ]
  },
  {
   "cell_type": "code",
   "execution_count": null,
   "metadata": {},
   "outputs": [],
   "source": [
    "addition = 5 + 5\n",
    "subtraction = 5 - 5\n",
    "multiplication = 5 * 5\n",
    "division = 5 / 6        # Be careful of the Python version!\n",
    "exponentiation = 5**2\n",
    "modulus = 5 % 3"
   ]
  },
  {
   "cell_type": "markdown",
   "metadata": {},
   "source": [
    "What did I mean by \"Be careful of the Python Version\" in the comment above (**note:** you can use comments in lines of code, via the # symbol, to leave descriptions and instructions in your code that aren't seen or run by the interpreter). \n",
    "\n",
    "Let's do an experiment:"
   ]
  },
  {
   "cell_type": "code",
   "execution_count": 26,
   "metadata": {},
   "outputs": [
    {
     "name": "stdout",
     "output_type": "stream",
     "text": [
      "0.8333333333333334\n"
     ]
    }
   ],
   "source": [
    "print(division)"
   ]
  },
  {
   "cell_type": "markdown",
   "metadata": {},
   "source": [
    "If you are using **Python version 3.x** (which you should be using!), you will see an accurate answer. On Python version 2.x, you will get 0 even though 5/6 isn't 0 (!). Why so?\n",
    "\n",
    "This discrepancy is a result of the **datatypes** used in different Python versions. In Python 2.x (as opposed to any version of Python 3), numbers like those I've been using are treated as **integers** - the computer only knows their values to the \"one's place\", and thus finds 5/6 to be 0.\n",
    "\n",
    "In Python 3, this issue has been resolved by performing all calculations in **floating point** -- which means including the decimal values.\n",
    "\n",
    "You can use the following to check what Python version you are using"
   ]
  },
  {
   "cell_type": "code",
   "execution_count": 27,
   "metadata": {},
   "outputs": [
    {
     "name": "stdout",
     "output_type": "stream",
     "text": [
      "3.8.12\n"
     ]
    }
   ],
   "source": [
    "from platform import python_version\n",
    "\n",
    "print(python_version())"
   ]
  },
  {
   "cell_type": "markdown",
   "metadata": {},
   "source": [
    "The Python Software Foundation (core Python development team) is not officially supporting/improving Python 2. So use Python 3 whenever possible! Do not worry about the **import** statement above. It represents an advanced topic that I will discuss in detail later."
   ]
  },
  {
   "cell_type": "markdown",
   "metadata": {},
   "source": [
    "Now, let's see how you can explicitly treat a number as an **integer** or a **floating point**:"
   ]
  },
  {
   "cell_type": "code",
   "execution_count": 33,
   "metadata": {},
   "outputs": [
    {
     "data": {
      "text/plain": [
       "0"
      ]
     },
     "execution_count": 33,
     "metadata": {},
     "output_type": "execute_result"
    }
   ],
   "source": [
    "int(division)"
   ]
  },
  {
   "cell_type": "code",
   "execution_count": 42,
   "metadata": {},
   "outputs": [
    {
     "data": {
      "text/plain": [
       "0.0"
      ]
     },
     "execution_count": 42,
     "metadata": {},
     "output_type": "execute_result"
    }
   ],
   "source": [
    "float(int(division))"
   ]
  },
  {
   "cell_type": "markdown",
   "metadata": {},
   "source": [
    "The above illustrates 2 points. The first is that you can force any float to be an integer by **typecasting** it using the **int** command. This command rounds what might be a floating point number to an integer. The same goes in reverse."
   ]
  },
  {
   "cell_type": "markdown",
   "metadata": {},
   "source": [
    "### Exercise 1: A simple calculation"
   ]
  },
  {
   "cell_type": "markdown",
   "metadata": {},
   "source": [
    "In the box below, create 8 variables which hold the equatorial radii of the planets in our [Solar System](https://solarsystem.nasa.gov/planets/overview/). Note that we are not including Pluto since it now belongs to a new class: dwarf planets!\n",
    "\n",
    "You can search the values online and input them here in **km** units. It would be great if they are accurate upto one decimal digit (float values)."
   ]
  },
  {
   "cell_type": "code",
   "execution_count": 196,
   "metadata": {},
   "outputs": [],
   "source": [
    "mercury_radius = 2439.7\n",
    "# Your code here\n",
    "venus_radius = 6051.8\n",
    "earth_radius = 6371.0\n",
    "mars_radius = 3389.5\n",
    "jupiter_radius = 69911.0\n",
    "saturn_radius = 58232.0\n",
    "uranus_radius = 25362.0\n",
    "neptune_radius = 25362.0"
   ]
  },
  {
   "cell_type": "markdown",
   "metadata": {},
   "source": [
    "Set a variable named \"radius_average\" that is equal to the average of the eight radii. Be careful of order of operations! You can group operations, just like in PEMDAS math, using soft parenthesis \"()\"."
   ]
  },
  {
   "cell_type": "code",
   "execution_count": 197,
   "metadata": {},
   "outputs": [],
   "source": [
    "# Your code here\n",
    "radius_average = (mercury_radius + venus_radius + earth_radius + mars_radius + jupiter_radius + saturn_radius + uranus_radius + neptune_radius)/8"
   ]
  },
  {
   "cell_type": "code",
   "execution_count": 198,
   "metadata": {},
   "outputs": [
    {
     "name": "stdout",
     "output_type": "stream",
     "text": [
      "24639.875\n"
     ]
    }
   ],
   "source": [
    "print(radius_average)"
   ]
  },
  {
   "cell_type": "markdown",
   "metadata": {},
   "source": [
    "Note that the radii of giant planets are much larger than that of terrestrial planets. The average (or mean) statistic is sensitive to extremely large (or small values), and hence the average we see here is quite high. In comparison, other statistical measures of central tendency like the median and mode are not affected by extreme values."
   ]
  },
  {
   "cell_type": "markdown",
   "metadata": {},
   "source": [
    "Now, the sum of the planet radii is just"
   ]
  },
  {
   "cell_type": "code",
   "execution_count": 199,
   "metadata": {},
   "outputs": [],
   "source": [
    "radii_sum = 8 * radius_average"
   ]
  },
  {
   "cell_type": "markdown",
   "metadata": {},
   "source": [
    "Excluding the Earth, this sum is"
   ]
  },
  {
   "cell_type": "code",
   "execution_count": 200,
   "metadata": {},
   "outputs": [],
   "source": [
    "radii_sum_wo_earth = radii_sum - earth_radius"
   ]
  },
  {
   "cell_type": "markdown",
   "metadata": {},
   "source": [
    "How big is the distance \"radii_sum_wo_earth\"? Let's compare it to the average distance between the Earth and the Moon, a distance we are more familiar with.\n",
    "\n",
    "You can search this distance and input it into a variable \"earth_moon_dist\" in **km** units."
   ]
  },
  {
   "cell_type": "code",
   "execution_count": 201,
   "metadata": {},
   "outputs": [],
   "source": [
    "earth_moon_dist = 384400"
   ]
  },
  {
   "cell_type": "markdown",
   "metadata": {},
   "source": [
    "We can compare the \"radii_sum_wo_earth\" and \"earth_moon_dist\" as follows"
   ]
  },
  {
   "cell_type": "code",
   "execution_count": 202,
   "metadata": {},
   "outputs": [
    {
     "data": {
      "text/plain": [
       "0.49622268470343395"
      ]
     },
     "execution_count": 202,
     "metadata": {},
     "output_type": "execute_result"
    }
   ],
   "source": [
    "radii_sum_wo_earth/earth_moon_dist"
   ]
  },
  {
   "cell_type": "markdown",
   "metadata": {},
   "source": [
    "Now compare \"2\\*radii_sum_wo_earth\" (sum of 7 planet diameters) and \"earth_moon_dist\" in the next cell"
   ]
  },
  {
   "cell_type": "code",
   "execution_count": 203,
   "metadata": {},
   "outputs": [
    {
     "data": {
      "text/plain": [
       "0.9924453694068679"
      ]
     },
     "execution_count": 203,
     "metadata": {},
     "output_type": "execute_result"
    }
   ],
   "source": [
    "2*radii_sum_wo_earth/earth_moon_dist"
   ]
  },
  {
   "cell_type": "markdown",
   "metadata": {},
   "source": [
    "The answer will surely **surprise** you! \n",
    "\n",
    "\n",
    "If you were to stack all the planets in our solar system (excluding the Earth), they would fit between the Earth and the Moon! Depending on the accuracy of the values you use, there might be some disagreements, but the two values should be very close.\n",
    "\n",
    "The following figure demonstrates this stacking approximately to scale. For it to work, make sure you download the \"planets_stack.jpg\" image from GitHub and put it in the same directory you are running this notebook in."
   ]
  },
  {
   "cell_type": "code",
   "execution_count": 4,
   "metadata": {},
   "outputs": [
    {
     "data": {
      "image/jpeg": "[encoded data removed]",
      "text/plain": [
       "<IPython.core.display.Image object>"
      ]
     },
     "execution_count": 4,
     "metadata": {},
     "output_type": "execute_result"
    }
   ],
   "source": [
    "# Do not worry about import statements just yet\n",
    "from IPython.display import Image\n",
    "Image('planets_stack.jpg')"
   ]
  },
  {
   "cell_type": "markdown",
   "metadata": {},
   "source": [
    "## Data Types in Python"
   ]
  },
  {
   "cell_type": "markdown",
   "metadata": {},
   "source": [
    "So far, we have been working entirely with numbers (integers and floats). You can tell what data type a variable is at any time using the \"type()\" command:"
   ]
  },
  {
   "cell_type": "code",
   "execution_count": 79,
   "metadata": {},
   "outputs": [
    {
     "name": "stdout",
     "output_type": "stream",
     "text": [
      "<class 'int'>\n",
      "<class 'float'>\n"
     ]
    }
   ],
   "source": [
    "x = 5\n",
    "y = 6.0\n",
    "print(type(x))\n",
    "print(type(y))"
   ]
  },
  {
   "cell_type": "markdown",
   "metadata": {},
   "source": [
    "While, at the very bottom of things, your data will always be numbers like this, Python's power comes in when you start looking at it's other data types, which are primarily set up to contain numbers in an organized way. Here are the basic data types in Python:\n",
    "\n",
    " * Integers\n",
    " * Floats\n",
    " * Booleans (True or False)\n",
    " * Lists (collections of items) \n",
    " * Dictionaries (collections accessed via \"keys\") \n",
    " * Strings (contained in quotes \"like this\")\n",
    " * Tuples (like lists, but immutable (unchangeable)) \n",
    " \n",
    "In the next few sections, we are going to learn about these data types (skipping integers and floats, which we've mostly covered)."
   ]
  },
  {
   "cell_type": "markdown",
   "metadata": {},
   "source": [
    "### Booleans"
   ]
  },
  {
   "cell_type": "markdown",
   "metadata": {},
   "source": [
    "Booleans have a one of two states,\"True\" or \"False\". Try setting a variable equal to True or False in the box below - you should see Python \"color\" the word to indicate syntactically that it is a special word in Python that has a specific meaning."
   ]
  },
  {
   "cell_type": "code",
   "execution_count": 7,
   "metadata": {},
   "outputs": [],
   "source": [
    "true = True\n",
    "false = False "
   ]
  },
  {
   "cell_type": "code",
   "execution_count": 8,
   "metadata": {},
   "outputs": [
    {
     "data": {
      "text/plain": [
       "True"
      ]
     },
     "execution_count": 8,
     "metadata": {},
     "output_type": "execute_result"
    }
   ],
   "source": [
    "true"
   ]
  },
  {
   "cell_type": "markdown",
   "metadata": {},
   "source": [
    "These come in handy when we are employing **condiditional statements** in which we say \"Hey code, if some condition is True, do \"X,\" else if some other condition is True, do \"Y\". \n",
    "\n",
    "We are often using booleans without recognizing it. An example condition is given below"
   ]
  },
  {
   "cell_type": "code",
   "execution_count": null,
   "metadata": {},
   "outputs": [],
   "source": [
    "2*radii_sum < earth_moon_dist"
   ]
  },
  {
   "cell_type": "markdown",
   "metadata": {},
   "source": [
    "More on this coming up below."
   ]
  },
  {
   "cell_type": "markdown",
   "metadata": {},
   "source": [
    "### Lists"
   ]
  },
  {
   "cell_type": "markdown",
   "metadata": {},
   "source": [
    "Lists are the most forgiving container in Python. Basically, we can shove whatever we want into a list, be they different data types, or even lists within lists. Of course, the usefulness of non-uniform containers becomes limited - the advantage to storing lots of numbers in a list is that you can then perform operations on them all without worrying that some won't work. \n",
    "\n",
    "Here's how we define a list:"
   ]
  },
  {
   "cell_type": "code",
   "execution_count": 9,
   "metadata": {},
   "outputs": [],
   "source": [
    "list_1 = ['a string', 5, 6.0, True, [5, 6, 6]]"
   ]
  },
  {
   "cell_type": "markdown",
   "metadata": {},
   "source": [
    "The list above is kind of a mess - you'd almost never want a list to contain such a variety of things in it, but I wanted to highlight that, in principle, Python doesn't care what you stick inside a list. In addition to manually specifiying what is in a list, we can use some generative functions to make lists for us when they have a regular form:"
   ]
  },
  {
   "cell_type": "code",
   "execution_count": 22,
   "metadata": {},
   "outputs": [
    {
     "name": "stdout",
     "output_type": "stream",
     "text": [
      "range(1, 11) <class 'range'>\n"
     ]
    }
   ],
   "source": [
    "count_to_10 = range(1, 11)\n",
    "print(count_to_10, type(count_to_10))"
   ]
  },
  {
   "cell_type": "markdown",
   "metadata": {},
   "source": [
    "What I've done above is run the built-in \"range()\" function, which returns an object of type 'range' that internally contains a sequence of integers. We can convert this internal sequence into a list as follows:"
   ]
  },
  {
   "cell_type": "code",
   "execution_count": 24,
   "metadata": {},
   "outputs": [
    {
     "name": "stdout",
     "output_type": "stream",
     "text": [
      "[1, 2, 3, 4, 5, 6, 7, 8, 9, 10] <class 'list'>\n"
     ]
    }
   ],
   "source": [
    "list_count_to_10 = list(count_to_10)\n",
    "print(list_count_to_10, type(list_count_to_10))"
   ]
  },
  {
   "cell_type": "markdown",
   "metadata": {},
   "source": [
    "In **Python 2.x**, the range() function directly returns a list, whereas a different function \"xrange()\" returns an 'xrange' object and performs similar to what we see above. \n",
    "\n",
    "This functionality has changed in **Python 3.x**. The \"xrange()\" function is renamed to \"range()\" and the original \"range()\" function no longer exists. This change was made to reduce memory and resource consumption as well as execution time of the code. The details of this are out of scope for this tutorial, but I am mentioning them here for future reference.\n",
    "\n",
    "The original Python 2 \"range()\" returned a list of integers, which was stored in memory all at once, e.g. range(1, 1000) would have stored a list of 1000 integers in memory. This consumes a lot of computational resources and slows down the code. Instead, the Python 3 \"range\" generates numbers one at a time as you iterate using a **for** loop. We show this as follows:"
   ]
  },
  {
   "cell_type": "code",
   "execution_count": 29,
   "metadata": {},
   "outputs": [
    {
     "name": "stdout",
     "output_type": "stream",
     "text": [
      "1\n",
      "2\n",
      "3\n",
      "4\n",
      "5\n",
      "6\n",
      "7\n",
      "8\n",
      "9\n",
      "10\n"
     ]
    }
   ],
   "source": [
    "for num in count_to_10:\n",
    "    print(num)"
   ]
  },
  {
   "cell_type": "markdown",
   "metadata": {},
   "source": [
    "In the **for** loop, you can perform operations on the integers. Over time as you use more loops, you will realize that this takes up less memory and saves time!"
   ]
  },
  {
   "cell_type": "markdown",
   "metadata": {},
   "source": [
    "Now let's understand the Python 3 \"range\" function in more detail. The form of the function is range(start, stop[, step]), where \"start\" is inclusive and \"stop\" is exclusive. Therefore, the above represents $[1,11)$. \n",
    "\n",
    "If I wanted 0-9, I would do"
   ]
  },
  {
   "cell_type": "code",
   "execution_count": null,
   "metadata": {},
   "outputs": [
    {
     "data": {
      "text/plain": [
       "[0, 1, 2, 3, 4, 5, 6, 7, 8, 9]"
      ]
     },
     "execution_count": 82,
     "metadata": {},
     "output_type": "execute_result"
    }
   ],
   "source": [
    "list(range(10))"
   ]
  },
  {
   "cell_type": "markdown",
   "metadata": {},
   "source": [
    "using the shortcut that if only 1 argument is used, \"start\" is assumed to be 0 and \"step\" is assumed to be 1 (it has to be an integer). "
   ]
  },
  {
   "cell_type": "markdown",
   "metadata": {},
   "source": [
    "## Exercise 2: skip-count\n",
    "Generate a list below containing the numbers 2, 4, 6, 8, ... 100 and save it into a variable called skip_count. Then, below, print it to see you did it right."
   ]
  },
  {
   "cell_type": "code",
   "execution_count": null,
   "metadata": {},
   "outputs": [],
   "source": [
    "skip_count = "
   ]
  },
  {
   "cell_type": "markdown",
   "metadata": {},
   "source": [
    "You can directly calculate the sum of these numbers by using the built-in \"sum()\" function"
   ]
  },
  {
   "cell_type": "code",
   "execution_count": null,
   "metadata": {},
   "outputs": [],
   "source": [
    "sum(skip_count)"
   ]
  },
  {
   "cell_type": "markdown",
   "metadata": {},
   "source": [
    "I want you to understand what lists are and how they're defined. During the workshop, you will learn how to use Loops and Conditionals to generate customized lists.\n",
    "\n",
    "#### Indexing\n",
    "When we want to see what is in a list, we print it. But sometimes we want to \"pull out\" individual elements of a list and use them in calculations. For that, we need to \"slice\" or **index** the list for the element we want. Lists are indexed such that the first element is assigned \"0\" (to remember this, I got into the habit of calling it the \"0th index\"). For example, using the list from above:"
   ]
  },
  {
   "cell_type": "code",
   "execution_count": 30,
   "metadata": {},
   "outputs": [
    {
     "data": {
      "text/plain": [
       "'a string'"
      ]
     },
     "execution_count": 30,
     "metadata": {},
     "output_type": "execute_result"
    }
   ],
   "source": [
    "list_1[0]"
   ]
  },
  {
   "cell_type": "markdown",
   "metadata": {},
   "source": [
    "Basically, we put closed brackets at the end of the variable name and specify which index we want. We can also pull multiple:"
   ]
  },
  {
   "cell_type": "code",
   "execution_count": 31,
   "metadata": {},
   "outputs": [
    {
     "data": {
      "text/plain": [
       "['a string', 5]"
      ]
     },
     "execution_count": 31,
     "metadata": {},
     "output_type": "execute_result"
    }
   ],
   "source": [
    "list_1[0:2]"
   ]
  },
  {
   "cell_type": "markdown",
   "metadata": {},
   "source": [
    "Notice that the 2 is not inclusive (it pulls 0th and 1st). We can also specify a skip:"
   ]
  },
  {
   "cell_type": "code",
   "execution_count": 32,
   "metadata": {},
   "outputs": [
    {
     "data": {
      "text/plain": [
       "['a string', 6.0, [5, 6, 6]]"
      ]
     },
     "execution_count": 32,
     "metadata": {},
     "output_type": "execute_result"
    }
   ],
   "source": [
    "list_1[0:5:2]"
   ]
  },
  {
   "cell_type": "markdown",
   "metadata": {},
   "source": [
    "So what about that list within a list? If we want a specific number from it, we can use double indexing. Also, I'll use this as a spot to show **negative indexing** which lets you count backwards from the end of a list (if that happens to be easier):"
   ]
  },
  {
   "cell_type": "code",
   "execution_count": 33,
   "metadata": {},
   "outputs": [
    {
     "data": {
      "text/plain": [
       "6"
      ]
     },
     "execution_count": 33,
     "metadata": {},
     "output_type": "execute_result"
    }
   ],
   "source": [
    "list_1[-1][1]"
   ]
  },
  {
   "cell_type": "markdown",
   "metadata": {},
   "source": [
    "What I did was pull the -1st element (final element, 2nd to last would be -2, etc), which was the inner list, and then I indexed *that* for it's 1st element. \n",
    "\n",
    "**Try it out:** In the cell below, get it to output the \"s\" in \"a string\" in the 0th element of the list. (It works the same way). "
   ]
  },
  {
   "cell_type": "code",
   "execution_count": null,
   "metadata": {},
   "outputs": [],
   "source": [
    "# Your code here"
   ]
  },
  {
   "cell_type": "markdown",
   "metadata": {},
   "source": [
    "### Dictionaries\n",
    "Dictionaries are like lists, but rather than indexing them by element number as we were doing above, we index them by a special \"key\" that we assign to each \"value\". For example:"
   ]
  },
  {
   "cell_type": "code",
   "execution_count": 39,
   "metadata": {},
   "outputs": [
    {
     "data": {
      "text/plain": [
       "6051.8"
      ]
     },
     "execution_count": 39,
     "metadata": {},
     "output_type": "execute_result"
    }
   ],
   "source": [
    "# Radii of planets in our Solar System\n",
    "# https://solarsystem.nasa.gov/planet-compare/\n",
    "radii = {'Mercury' : 2439.7, 'Venus' : 6051.8,\n",
    "         'Earth' : 6371.0, 'Mars' : 3389.5,\n",
    "         'Jupiter' : 69911.0, 'Saturn': 58232.0,\n",
    "         'Uranus': 25362.0, 'Neptune': 24622.0}\n",
    "radii['Venus']"
   ]
  },
  {
   "cell_type": "markdown",
   "metadata": {},
   "source": [
    "Dictionaries are inherently unordered - the order I define things within the dictionary doesn't matter, only that I know the key associated with each value. For some applications, this has advantages over a list. Here, if I were only interested in things like the average and median radius, a list would be fine. But if I needed to know *which* planet has *what* radius throughout my analysis, a list would require me to impose that the order went \"Mercury, Venus, Earth,...\" and to remember that order when indexing, and if the order in the list changes, keep track of those too. "
   ]
  },
  {
   "cell_type": "markdown",
   "metadata": {},
   "source": [
    "### Strings"
   ]
  },
  {
   "cell_type": "markdown",
   "metadata": {},
   "source": [
    "We've already seen strings used - It lets you store things like words (or, later on, filepaths) in your code that otherwise don't have meaning as far as Python is concerned. Strings are the most forgiving data type of all; you can stick literally anything inside. If you have a data file with tons of different types of data in it, Python will often just read in everything as strings and let you work out how to convert the proper things into ints, floats, etc. Strings are iterable - they can be indexed like lists, character by character. "
   ]
  },
  {
   "cell_type": "markdown",
   "metadata": {},
   "source": [
    "### Tuples"
   ]
  },
  {
   "cell_type": "markdown",
   "metadata": {},
   "source": [
    "We don't use them to often, so just check out this example and follow along!"
   ]
  },
  {
   "cell_type": "code",
   "execution_count": 40,
   "metadata": {},
   "outputs": [
    {
     "name": "stdout",
     "output_type": "stream",
     "text": [
      "[2, 2, 5]\n"
     ]
    }
   ],
   "source": [
    "example_list = [1, 2, 5]\n",
    "example_tuple = (1, 2, 5)\n",
    "example_list[0] = 2\n",
    "print(example_list)"
   ]
  },
  {
   "cell_type": "markdown",
   "metadata": {},
   "source": [
    "So I've successfully defined it as a tuple and list, and changed the 0th entry of the list. But what if I try on the tuple?"
   ]
  },
  {
   "cell_type": "code",
   "execution_count": 41,
   "metadata": {},
   "outputs": [
    {
     "ename": "TypeError",
     "evalue": "'tuple' object does not support item assignment",
     "output_type": "error",
     "traceback": [
      "\u001b[0;31m---------------------------------------------------------------------------\u001b[0m",
      "\u001b[0;31mTypeError\u001b[0m                                 Traceback (most recent call last)",
      "\u001b[0;32m/var/folders/hs/xytwn7892j7514f57y5hv_ph0000gn/T/ipykernel_1976/225137505.py\u001b[0m in \u001b[0;36m<module>\u001b[0;34m\u001b[0m\n\u001b[0;32m----> 1\u001b[0;31m \u001b[0mexample_tuple\u001b[0m\u001b[0;34m[\u001b[0m\u001b[0;36m0\u001b[0m\u001b[0;34m]\u001b[0m \u001b[0;34m=\u001b[0m \u001b[0;36m2\u001b[0m\u001b[0;34m\u001b[0m\u001b[0;34m\u001b[0m\u001b[0m\n\u001b[0m",
      "\u001b[0;31mTypeError\u001b[0m: 'tuple' object does not support item assignment"
     ]
    }
   ],
   "source": [
    "example_tuple[0] = 2"
   ]
  },
  {
   "cell_type": "markdown",
   "metadata": {},
   "source": [
    "Thus, I get an error. So basically, if you make a list-type item and want to make sure it can never be adjusted in your code, you can make it a tuple. This property of tuples is referred to as immutability.\n",
    "\n",
    "For more examples of the basic manipulations you can make to these basic data types, check out Chapter 2 of the [textbook](https://prappleizer.github.io/index.html), which lays some of them out!"
   ]
  },
  {
   "cell_type": "markdown",
   "metadata": {},
   "source": [
    "## Exercise 3: Bringing it together (kind of)"
   ]
  },
  {
   "cell_type": "markdown",
   "metadata": {},
   "source": [
    "Let's try a single, longer example that (tries to) bring in the things we've seen above. You'll find that part 2 of this pre-workshop covers things like iterating/for loops and conditionals, which drastically increase what you can do with Python. Nevertheless, here's some practice with the basic operations. \n",
    "\n",
    "Let's say you have travelled to the past with a high-quality telescope, and are observing the moons of Jupiter for the first time in human history. You find 80 of them! \n",
    "\n",
    "You measure several properties of the orbits of these moons around Jupiter. You store these values in a text file called \"jupiters_moons.csv\".\n",
    "\n",
    "Now, before you announce your discovery to the world, you decide to calculate the distribution statistics of the moons. You want to use these statistics to understand the astrophysics underlying these moons.\n",
    "\n",
    "Your first step to this analysis is inputting the data. To do this, I'm going to introduce a new concept: the **Numpy** (numerical python) library. Use the following cell to load or \"import\" this library."
   ]
  },
  {
   "cell_type": "code",
   "execution_count": 1,
   "metadata": {},
   "outputs": [],
   "source": [
    "import numpy as np"
   ]
  },
  {
   "cell_type": "markdown",
   "metadata": {},
   "source": [
    "As mentioned before, do not worry about the details of **importing libraries** just yet. I will describe this in detail during the workshop. For now, let's see how to load data using Numpy. \n",
    "\n",
    "First, you should download the \"jupiters_moons.csv\" file from this workshop's GitHub repository. Open this file in a regular text editor to get a sense of what kind of data you will be looking at. Then, add this file to your Google Drive and mount the Drive"
   ]
  },
  {
   "cell_type": "code",
   "execution_count": null,
   "metadata": {},
   "outputs": [],
   "source": [
    "# Refer to the Google Colab introductory video for more details\n",
    "from google.colab import drive\n",
    "drive.mount('/content/drive')"
   ]
  },
  {
   "cell_type": "markdown",
   "metadata": {},
   "source": [
    "Now, look up the **documentation** for Numpy's loadtxt() function — you can do so online (google the function) or by typing help(np.loadtxt) in a cell here in this notebook. Once you've done that, use loadtxt() to read the \"jupiters_moons.csv\" file into a variable called \"moons_data\". *Note:* **csv** stands for a comma separated ASCII text file, so you need to tell loadtxt() that the values are separated by \",\". The following code does this"
   ]
  },
  {
   "cell_type": "code",
   "execution_count": null,
   "metadata": {},
   "outputs": [],
   "source": [
    "moons_data = np.loadtxt('drive/My Drive/jupiters_moons.csv', delimiter=',')"
   ]
  },
  {
   "cell_type": "markdown",
   "metadata": {},
   "source": [
    "Running the above should get you an error. This is because the file you are loading contains numbers and strings (e.g. 'Planet'), but np.loadtxt() cannot turn the strings into floats. Make sure to look at the \"dtype\" option in the documentation, and try setting it to string — this will turn all things into strings, but we can extract the numbers easily later."
   ]
  },
  {
   "cell_type": "code",
   "execution_count": null,
   "metadata": {},
   "outputs": [],
   "source": [
    "# Set the following \"dtype\" option to string\n",
    "moons_data = np.loadtxt('drive/My Drive/jupiters_moons.csv', delimiter=',', dtype=  )"
   ]
  },
  {
   "cell_type": "markdown",
   "metadata": {},
   "source": [
    "You can also skip reading the first row of the file using the option \"skiprows\". This row contains names of columns rather than data, so you can ignore it."
   ]
  },
  {
   "cell_type": "code",
   "execution_count": null,
   "metadata": {},
   "outputs": [],
   "source": [
    "moons_data = np.loadtxt('drive/My Drive/jupiters_moons.csv', delimiter=',', dtype=  , skiprows=1)"
   ]
  },
  {
   "cell_type": "markdown",
   "metadata": {},
   "source": [
    "Now print this data"
   ]
  },
  {
   "cell_type": "code",
   "execution_count": 67,
   "metadata": {},
   "outputs": [
    {
     "data": {
      "text/plain": [
       "array([['Jupiter', 'Io', '501', ..., '64.5', '0', '1'],\n",
       "       ['Jupiter', 'Europa', '502', ..., '64.5', '0', '1'],\n",
       "       ['Jupiter', 'Ganymede', '503', ..., '64.6', '0.1', '1'],\n",
       "       ...,\n",
       "       ['Jupiter', 'S2003_j16', '55506', ..., '', '', '2'],\n",
       "       ['Jupiter', 'S2003_j23', '55507', ..., '', '', '2'],\n",
       "       ['Jupiter', 'S2003_j24', '55508', ..., '', '', '2']], dtype='<U13')"
      ]
     },
     "execution_count": 67,
     "metadata": {},
     "output_type": "execute_result"
    }
   ],
   "source": [
    "moons_data"
   ]
  },
  {
   "cell_type": "markdown",
   "metadata": {},
   "source": [
    "\"moons_data\" looks like a list of lists. Let's look at its data type"
   ]
  },
  {
   "cell_type": "code",
   "execution_count": 53,
   "metadata": {},
   "outputs": [
    {
     "name": "stdout",
     "output_type": "stream",
     "text": [
      "<class 'numpy.ndarray'>\n"
     ]
    }
   ],
   "source": [
    "print(type(moons_data))"
   ]
  },
  {
   "cell_type": "markdown",
   "metadata": {},
   "source": [
    "Thus, you get a Numpy object called \"ndarray\" (N-dimensional array). You will understand why \"ndarrays\" are powerful tools in a little bit. But for now, let's load individual columns as lists since you know how to work with them. \n",
    "\n",
    "When you looked at the file in a text editor, you must have seen that different columns have different orbital parameters of the 80 moons. Let's look at the 6th column that contains the semi-major axes of the orbits."
   ]
  },
  {
   "cell_type": "code",
   "execution_count": 103,
   "metadata": {},
   "outputs": [
    {
     "data": {
      "text/plain": [
       "array(['421800', '671100', '1070400', '1882700', '181400', '221900',\n",
       "       '129000', '128000', '11440600', '11712300', '23468200', '23683900',\n",
       "       '11700800', '23144400', '21034500', '11146400', '23795500',\n",
       "       '7398500', '23644600', '23108000', '22930500', '20892100',\n",
       "       '23302600', '21066700', '23032900', '22981300', '20935400',\n",
       "       '23792500', '20978000', '21108500', '23064400', '22899000',\n",
       "       '20827000', '19265800', '20901000', '23543300', '23052600',\n",
       "       '22846700', '23348700', '20821000', '23778200', '20976000',\n",
       "       '23097800', '23021800', '20915700', '17042300', '23067400',\n",
       "       '23654700', '24205200', '23150500', '23189800', '20793000',\n",
       "       '12260300', '20802600', '20336300', '22909200', '23055800',\n",
       "       '22604600', '23744800', '20768600', '23156400', '18694200',\n",
       "       '22953200', '20941000', '11481000', '23206200', '23245300',\n",
       "       '20964800', '22849500', '21768700', '11401000', '23124500',\n",
       "       '20997700', '22926500', '23199400', '23576300', '20963100',\n",
       "       '20882600', '23829300', '22887400'], dtype='<U13')"
      ]
     },
     "execution_count": 103,
     "metadata": {},
     "output_type": "execute_result"
    }
   ],
   "source": [
    "moons_data[:, 6]"
   ]
  },
  {
   "cell_type": "markdown",
   "metadata": {},
   "source": [
    "We see that the values are all strings because we loaded everything using the string data type. We can convert these to floats as follows"
   ]
  },
  {
   "cell_type": "code",
   "execution_count": 4,
   "metadata": {},
   "outputs": [],
   "source": [
    "major_axes = moons_data[:, 6]\n",
    "# The following is the numpy equivalent of typecasting\n",
    "major_axes = major_axes.astype(float)"
   ]
  },
  {
   "cell_type": "markdown",
   "metadata": {},
   "source": [
    "The above shows one advantage of using \"ndarrays\" as opposed to lists. For typecasting lists, you have to individually convert each value either manually or by using a for loop. For example:"
   ]
  },
  {
   "cell_type": "markdown",
   "metadata": {},
   "source": [
    "Using the above code, read column 7 (eccentricities) and column 10 (inclination) into variables \"eccts\" and \"incls\""
   ]
  },
  {
   "cell_type": "code",
   "execution_count": 5,
   "metadata": {},
   "outputs": [],
   "source": [
    "eccts = moons_data[:, 7]\n",
    "eccts = eccts.astype(float)\n",
    "\n",
    "incls = moons_data[:, 10]\n",
    "incls = incls.astype(float)"
   ]
  },
  {
   "cell_type": "markdown",
   "metadata": {},
   "source": [
    "Now, to perform statistical analysis on this data, the first thing we need to do is calculate the averages. Later on, we'll see that there are external functions you can import into Python that will just do this for you, but for now let's calculate it manually (it's easy enough, right?).\n",
    "\n",
    "Above, we saw use of the sum() function - as it turns out, you can run the sum() function on a list or an ndarray (so long as it only contains numbers) and it will tell you the sum. There is also a Nympy equivalent of the sum function called \"np.sum()\", which works faster for ndarrays.\n",
    "\n",
    "The only other thing you'll need to calculate the average is the len() function, which returns the number of elements in a list/array. Using those two, define variables below called \"average_orbit_radius\" and \"average_ecct\", and calculate them."
   ]
  },
  {
   "cell_type": "code",
   "execution_count": 6,
   "metadata": {},
   "outputs": [],
   "source": [
    "# Your code here\n",
    "average_major_axis = sum(major_axes)/len(major_axes)\n",
    "average_ecct = sum(eccts)/len(eccts)\n",
    "average_incl = sum(incls)/len(incls)"
   ]
  },
  {
   "cell_type": "markdown",
   "metadata": {},
   "source": [
    "Now let's print these quantities in a *fancy* way"
   ]
  },
  {
   "cell_type": "code",
   "execution_count": 8,
   "metadata": {},
   "outputs": [
    {
     "name": "stdout",
     "output_type": "stream",
     "text": [
      "The average orbital semi-major axis of the moons is 18974958.75\n",
      "The average orbital eccentricity of the moons is 0.23605\n",
      "The average orbital inclinations of the moons is 123.980\n"
     ]
    }
   ],
   "source": [
    "print(f'The average orbital semi-major axis of the moons is {average_major_axis}')\n",
    "print(f'The average orbital eccentricity of the moons is {average_ecct:.5f}')    # Using \":.5f\", you can print 5 digits after the decimal place\n",
    "print(f'The average orbital inclinations of the moons is {average_incl:.3f}')    # Using \":.3f\", you can print 3 digits after the decimal place"
   ]
  },
  {
   "cell_type": "markdown",
   "metadata": {},
   "source": [
    "Okay, so the other thing statisticians are always interested in is the standard deviation from the mean - this basically tells how dispersed the values in a sample are. The formula for a standard deviation is \n",
    "$$ \n",
    "s = \\sqrt{\\frac{\\sum_{1}^{N}(x_i - \\mu)^2}{N-1}}\n",
    "$$\n",
    "\n",
    "where $\\mu$ is the average and N is the total number of values."
   ]
  },
  {
   "cell_type": "markdown",
   "metadata": {},
   "source": [
    "We already know how to get N, and we know what $\\mu$ is as well. So to calculate this, we need to know how to calculate the quantity on the top of the fraction. This is actually kind of tricky without the use of Numpy arrays. See the example below for elucidation:"
   ]
  },
  {
   "cell_type": "code",
   "execution_count": 9,
   "metadata": {},
   "outputs": [
    {
     "name": "stdout",
     "output_type": "stream",
     "text": [
      "[  421799.   671099.  1070399.  1882699.   181399.   221899.   128999.\n",
      "   127999. 11440599. 11712299. 23468199. 23683899. 11700799. 23144399.\n",
      " 21034499. 11146399. 23795499.  7398499. 23644599. 23107999. 22930499.\n",
      " 20892099. 23302599. 21066699. 23032899. 22981299. 20935399. 23792499.\n",
      " 20977999. 21108499. 23064399. 22898999. 20826999. 19265799. 20900999.\n",
      " 23543299. 23052599. 22846699. 23348699. 20820999. 23778199. 20975999.\n",
      " 23097799. 23021799. 20915699. 17042299. 23067399. 23654699. 24205199.\n",
      " 23150499. 23189799. 20792999. 12260299. 20802599. 20336299. 22909199.\n",
      " 23055799. 22604599. 23744799. 20768599. 23156399. 18694199. 22953199.\n",
      " 20940999. 11480999. 23206199. 23245299. 20964799. 22849499. 21768699.\n",
      " 11400999. 23124499. 20997699. 22926499. 23199399. 23576299. 20963099.\n",
      " 20882599. 23829299. 22887399.]\n"
     ]
    }
   ],
   "source": [
    "print(major_axes - 1)"
   ]
  },
  {
   "cell_type": "markdown",
   "metadata": {},
   "source": [
    "Okay, so you can subtract an integer from an ndarray. What if I try the list version?"
   ]
  },
  {
   "cell_type": "code",
   "execution_count": 146,
   "metadata": {},
   "outputs": [
    {
     "ename": "TypeError",
     "evalue": "unsupported operand type(s) for -: 'list' and 'int'",
     "output_type": "error",
     "traceback": [
      "\u001b[0;31m---------------------------------------------------------------------------\u001b[0m",
      "\u001b[0;31mTypeError\u001b[0m                                 Traceback (most recent call last)",
      "\u001b[0;32m/var/folders/hs/xytwn7892j7514f57y5hv_ph0000gn/T/ipykernel_796/2831122057.py\u001b[0m in \u001b[0;36m<module>\u001b[0;34m\u001b[0m\n\u001b[0;32m----> 1\u001b[0;31m \u001b[0mprint\u001b[0m\u001b[0;34m(\u001b[0m\u001b[0mlist\u001b[0m\u001b[0;34m(\u001b[0m\u001b[0mmajor_axes\u001b[0m\u001b[0;34m)\u001b[0m \u001b[0;34m-\u001b[0m \u001b[0;36m1\u001b[0m\u001b[0;34m)\u001b[0m\u001b[0;34m\u001b[0m\u001b[0;34m\u001b[0m\u001b[0m\n\u001b[0m",
      "\u001b[0;31mTypeError\u001b[0m: unsupported operand type(s) for -: 'list' and 'int'"
     ]
    }
   ],
   "source": [
    "print(list(major_axes) - 1)"
   ]
  },
  {
   "cell_type": "markdown",
   "metadata": {},
   "source": [
    "You can't directly subtract an integer from a list. But why is this subtraction important? \n",
    "\n",
    "Your spidey senses should be tingling for how we can leverage the subtraction functionality of ndarrays to calculate our standard deviation. In the cell below, fill in the variable \"top_frac_major_axis\" to calculate the following quantity:\n",
    "$$\n",
    "\\sum_{i=1}^N (x_i - \\mu)^2\n",
    "$$\n",
    "\n",
    "Notice here that you don't have to actually calculate it one by one - if we first compute a single array that represents each semi-major axis with the mean subtracted off and then that value squared, then we finish off \"top_frac_major_axes\" just by summing up that array as we've done before."
   ]
  },
  {
   "cell_type": "code",
   "execution_count": 10,
   "metadata": {},
   "outputs": [
    {
     "name": "stdout",
     "output_type": "stream",
     "text": [
      "4046110785673875.0\n",
      "0.8065758000000001\n",
      "267956.78799999994\n"
     ]
    }
   ],
   "source": [
    "# Your code here\n",
    "top_frac_major_axis = np.sum((major_axes - average_major_axis)**2)\n",
    "print(top_frac_major_axis)\n",
    "\n",
    "top_frac_ecct = np.sum((eccts - average_ecct)**2)\n",
    "print(top_frac_ecct)\n",
    "\n",
    "top_frac_incl = np.sum((incls - average_incl)**2)\n",
    "print(top_frac_incl)"
   ]
  },
  {
   "cell_type": "markdown",
   "metadata": {},
   "source": [
    "With that done, we can easily apply the formula to get the final STD - **Hint:** the function np.sqrt() will be useful here."
   ]
  },
  {
   "cell_type": "code",
   "execution_count": 11,
   "metadata": {},
   "outputs": [
    {
     "name": "stdout",
     "output_type": "stream",
     "text": [
      "7156576.850961634\n",
      "0.1010436551850959\n",
      "58.239660678521865\n"
     ]
    }
   ],
   "source": [
    "# Your code here\n",
    "std_major_axis = np.sqrt(top_frac_major_axis/(len(major_axes)-1))\n",
    "print(std_major_axis)\n",
    "\n",
    "std_ecct = np.sqrt(top_frac_ecct/(len(eccts)-1))\n",
    "print(std_ecct)\n",
    "\n",
    "std_incl = np.sqrt(top_frac_incl/(len(incls)-1))\n",
    "print(std_incl)"
   ]
  },
  {
   "cell_type": "markdown",
   "metadata": {},
   "source": [
    "Alright! If you've done everything correctly, you should have found the averages and standard deviations.\n",
    "\n",
    "Let's, for fun, make a helpful plot to visualize the data and the calculated statistics. Don't worry about how the plotting stuff works just yet, we'll dive into it more in the next tutorial, but see if you can figure out what each part of the command is doing."
   ]
  },
  {
   "cell_type": "code",
   "execution_count": 12,
   "metadata": {},
   "outputs": [
    {
     "data": {
      "text/plain": [
       "<matplotlib.legend.Legend at 0x7f93ed70a790>"
      ]
     },
     "execution_count": 12,
     "metadata": {},
     "output_type": "execute_result"
    },
    {
     "data": {
      "image/png": "[encoded data removed]",
      "text/plain": [
       "<Figure size 432x288 with 1 Axes>"
      ]
     },
     "metadata": {
      "needs_background": "light"
     },
     "output_type": "display_data"
    }
   ],
   "source": [
    "import matplotlib.pyplot as plt\n",
    "%matplotlib inline\n",
    "\n",
    "plt.hist(major_axes, alpha=0.5)\n",
    "plt.axvline(average_major_axis, color='k',label=\"Mean\")\n",
    "plt.axvline(average_major_axis + std_major_axis, ls='--',color='k',label=\"+1 STD\")\n",
    "plt.axvline(average_major_axis - std_major_axis, ls='--',color='k',label=\"-1 STD\")\n",
    "plt.xlabel('Orbital semi-major axis')\n",
    "plt.ylabel('Number of moons of Jupiter')\n",
    "plt.legend()"
   ]
  },
  {
   "cell_type": "code",
   "execution_count": 13,
   "metadata": {},
   "outputs": [
    {
     "data": {
      "text/plain": [
       "<matplotlib.legend.Legend at 0x7f93ed826040>"
      ]
     },
     "execution_count": 13,
     "metadata": {},
     "output_type": "execute_result"
    },
    {
     "data": {
      "image/png": "[encoded data removed]",
      "text/plain": [
       "<Figure size 432x288 with 1 Axes>"
      ]
     },
     "metadata": {
      "needs_background": "light"
     },
     "output_type": "display_data"
    }
   ],
   "source": [
    "plt.hist(eccts, alpha=0.5)\n",
    "plt.axvline(average_ecct, color='k',label=\"Mean\")\n",
    "plt.axvline(average_ecct + std_ecct, ls='--',color='k',label=\"+1 STD\")\n",
    "plt.axvline(average_ecct - std_ecct, ls='--',color='k',label=\"-1 STD\")\n",
    "plt.xlabel('Eccentricity')\n",
    "plt.ylabel('Number of moons of Jupiter')\n",
    "plt.legend()"
   ]
  },
  {
   "cell_type": "code",
   "execution_count": 14,
   "metadata": {},
   "outputs": [
    {
     "data": {
      "text/plain": [
       "<matplotlib.legend.Legend at 0x7f93ed9302e0>"
      ]
     },
     "execution_count": 14,
     "metadata": {},
     "output_type": "execute_result"
    },
    {
     "data": {
      "image/png": "[encoded data removed]",
      "text/plain": [
       "<Figure size 432x288 with 1 Axes>"
      ]
     },
     "metadata": {
      "needs_background": "light"
     },
     "output_type": "display_data"
    }
   ],
   "source": [
    "plt.hist(incls, alpha=0.5)\n",
    "plt.axvline(average_incl, color='k',label=\"Mean\")\n",
    "plt.axvline(average_incl + std_incl, ls='--',color='k',label=\"+1 STD\")\n",
    "plt.axvline(average_incl - std_incl, ls='--',color='k',label=\"-1 STD\")\n",
    "plt.xlabel('Eccentricity')\n",
    "plt.ylabel('Number of moons of Jupiter')\n",
    "plt.legend()"
   ]
  },
  {
   "cell_type": "markdown",
   "metadata": {},
   "source": [
    "Nice! It looks like our formula for standard deviation successfully describes the distribution of orbital semi-major axes, eccentricities, and inclinations pretty well. Now, let's interpret the plots -- why do you see [multi-modalties](https://en.wikipedia.org/wiki/Multimodal_distribution) in the histograms?\n",
    "\n",
    "It is easy to understand this by visualizing the orbital distribution of the moons around jupiter. We provide the code for this visualization in the next few cells, but understanding it is beyond the scope of this tutorial.\n",
    "\n",
    "You will need three different libraries: \"Matplotlib\" for plotting (which you used above) and animation, \"mpl_toolkits\" for 3D plotting, and \"PyAstronomy\" for obtaining the orbits. \"PyAstronomy\" is not directly available in Google Colab (unlike Numpy and Matplotlib), so you will need to install it using:"
   ]
  },
  {
   "cell_type": "code",
   "execution_count": null,
   "metadata": {},
   "outputs": [],
   "source": [
    "!pip install PyAstronomy"
   ]
  },
  {
   "cell_type": "markdown",
   "metadata": {},
   "source": [
    "Now, load this library along with the others."
   ]
  },
  {
   "cell_type": "code",
   "execution_count": 137,
   "metadata": {},
   "outputs": [],
   "source": [
    "import mpl_toolkits.mplot3d.axes3d as p3\n",
    "import matplotlib.animation as animation\n",
    "from PyAstronomy import pyasl"
   ]
  },
  {
   "cell_type": "markdown",
   "metadata": {},
   "source": [
    "Then, use \"pylab\", which allows us to produce interactive figures!"
   ]
  },
  {
   "cell_type": "code",
   "execution_count": 187,
   "metadata": {},
   "outputs": [
    {
     "name": "stdout",
     "output_type": "stream",
     "text": [
      "Using matplotlib backend: MacOSX\n",
      "Populating the interactive namespace from numpy and matplotlib\n"
     ]
    }
   ],
   "source": [
    "%pylab"
   ]
  },
  {
   "cell_type": "markdown",
   "metadata": {},
   "source": [
    "You can vizualize the orbit of one of the Galilean moons of Jupiter, Ganymede, using the following code. Ganymede is the largest as well as the most massive moon in our Solar System!"
   ]
  },
  {
   "cell_type": "code",
   "execution_count": 193,
   "metadata": {},
   "outputs": [],
   "source": [
    "fig = plt.figure()\n",
    "ax = p3.Axes3D(fig, auto_add_to_figure=False)\n",
    "fig.add_axes(ax)\n",
    "\n",
    "moon_ind = np.where(moons_data[:, 1] == 'Ganymede')\n",
    "moon = moons_data[moon_ind][0]\n",
    "\n",
    "# Set the time to one period\n",
    "t = np.linspace(0, float(moon[12]), 100)\n",
    "\n",
    "# Create Keplerian elliptical orbits with\n",
    "# semi-major axis in length units, period in time units,\n",
    "# eccentricity, longitude of ascending node in degrees,\n",
    "# and inclination and periapsis argument in degrees.\n",
    "orbit = pyasl.KeplerEllipse(a=float(moon[6]), per=float(moon[12]),\n",
    "                            e=float(moon[7]), Omega=float(moon[8]),\n",
    "                            i=float(moon[10]), w=float(moon[11]))\n",
    "\n",
    "# Calculate the orbit position at the given points\n",
    "# in a Cartesian coordinate system.\n",
    "pos = orbit.xyzPos(t)\n",
    "\n",
    "# Plot the moon position\n",
    "red_dot, = ax.plot(pos[::, 1], pos[::, 0], pos[::, 2], 'ro', \n",
    "                   label=f'{moon[1]}')\n",
    "\n",
    "\n",
    "def animate(i, pos, red_dot):\n",
    "    red_dot.set_data([pos[i][1], pos[i][0]])\n",
    "    red_dot.set_3d_properties(pos[i][2])\n",
    "    return red_dot\n",
    "\n",
    "\n",
    "# Create animation using the animate() function\n",
    "ani = animation.FuncAnimation(fig, animate, 200, fargs=(pos, red_dot),\n",
    "                              interval=100, blit=False)\n",
    "\n",
    "\n",
    "ax.plot([0], [0], [0], 'bo', markersize=15, label=\"Jupiter\")\n",
    "ax.plot(pos[::, 1], pos[::, 0], pos[::, 2], 'k-')\n",
    "\n",
    "# Hide grid lines\n",
    "ax.grid(False)\n",
    "\n",
    "# Hide axes ticks\n",
    "ax.set_xticks([])\n",
    "ax.set_yticks([])\n",
    "ax.set_zticks([])\n",
    "plt.style.use('default')\n",
    "plt.legend()\n",
    "plt.show()"
   ]
  },
  {
   "cell_type": "markdown",
   "metadata": {},
   "source": [
    "You should see an interactive window which shows the animation. You can use the buttons at the bottom of the window to pan/zoom into the figure. Now, using the following code, you can plot the orbits of all 80 moons of Jupiter. The orbits of the Galilean moons are highlighted. You can see that there are three classes of moons:"
   ]
  },
  {
   "cell_type": "code",
   "execution_count": 190,
   "metadata": {},
   "outputs": [],
   "source": [
    "fig = plt.figure(figsize=(30, 30))\n",
    "ax = plt.axes(projection='3d')\n",
    "\n",
    "for ind, moon in enumerate(moons_data):\n",
    "    t = np.linspace(0, float(moon[12]), 100)\n",
    "    # Create Keplerian elliptical orbits with\n",
    "    # semi-major axis in length units, period in time units,\n",
    "    # eccentricity, longitude of ascending node in degrees,\n",
    "    # and inclination and periapsis argument in degrees.\n",
    "    orbit = pyasl.KeplerEllipse(a=float(moon[6]), per=float(moon[12]),\n",
    "                                e=float(moon[7]), Omega=float(moon[8]),\n",
    "                                i=float(moon[10]), w=float(moon[11]))\n",
    "\n",
    "    # Calculate the orbit position at the given points\n",
    "    # in a Cartesian coordinate system.\n",
    "    pos = orbit.xyzPos(t)\n",
    "\n",
    "    color=['red', 'blue', 'yellow', 'turquoise']\n",
    "    if ind < 4:\n",
    "        # Plot the orbit\n",
    "        ax.plot3D(pos[::, 1], pos[::, 0], pos[::, 2], color=color[ind], lw=1,\n",
    "                  label=f'{moon[1]}')\n",
    "        # Point of periapsis\n",
    "        ax.plot3D([pos[0, 1]], [pos[0, 0]], [pos[0, 2]], 'k.',\n",
    "                   markersize=6)\n",
    "    else:\n",
    "        ax.plot3D(pos[::, 1], pos[::, 0], pos[::, 2], 'k-', lw=0.25)\n",
    "        ax.plot3D([pos[0, 1]], [pos[0, 0]], [pos[0, 2]], 'k.',\n",
    "                   markersize=6)\n",
    "\n",
    "ax.plot3D([0], [0], [0], 'go', markersize=8, label='Jupiter')\n",
    "\n",
    "plt.legend(loc='lower right', fontsize=18)\n",
    "plt.style.use('default')\n",
    "# Hide grid lines\n",
    "ax.grid(False)\n",
    "# Hide axes ticks\n",
    "ax.set_xticks([])\n",
    "ax.set_yticks([])\n",
    "ax.set_zticks([])\n",
    "plt.title('Moons of Jupiter', fontsize=20)\n",
    "plt.show()"
   ]
  },
  {
   "cell_type": "markdown",
   "metadata": {},
   "source": [
    "## Wrap up"
   ]
  },
  {
   "cell_type": "markdown",
   "metadata": {},
   "source": [
    "I hope this super-basic introduction has given you a glimpse at some of the basic functionality of Python. Of course, Python is way more powerful than what has been shown here. I call this Part 1 because once you know the basic data types, how to define variables, and do some simple math on them, we are going to need to jump into new concepts — for loops and conditional statements, as well as invoke new libraries (like numpy and matplotlib) to make further progress. If you're ready to do that, head on over to Part 2! "
   ]
  }
 ],
 "metadata": {
  "kernelspec": {
   "display_name": "Python 3 (ipykernel)",
   "language": "python",
   "name": "python3"
  },
  "language_info": {
   "codemirror_mode": {
    "name": "ipython",
    "version": 3
   },
   "file_extension": ".py",
   "mimetype": "text/x-python",
   "name": "python",
   "nbconvert_exporter": "python",
   "pygments_lexer": "ipython3",
   "version": "3.8.12"
  }
 },
 "nbformat": 4,
 "nbformat_minor": 4
}
