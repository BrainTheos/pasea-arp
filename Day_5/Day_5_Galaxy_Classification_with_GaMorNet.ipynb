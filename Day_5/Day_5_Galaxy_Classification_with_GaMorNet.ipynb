{
 "cells": [
  {
   "cell_type": "markdown",
   "metadata": {
    "id": "pNq4HgykhnJK"
   },
   "source": [
    "# Day 5 - Galaxy Classification Using Convolutional Neural Networks\n",
    "\n",
    "In today's Day 5 tutorial you will be working through an example in which we will be classifying the morphology (i.e. the physical shape) of galaxies in the Sloan Digital Sky Survey (SDSS) using a convolutional neural network named GaMorNet.\n",
    "\n",
    "Note: The procedural portion of this tutorial is largely based on the GaMorNet tutorials available as part of the GaMorNet documentation (https://gamornet.readthedocs.io/en/latest/tutorials.html). All mentions of \"the paper\" in this tutorial, refer to [Ghosh et. al. (2020)](https://iopscience.iop.org/article/10.3847/1538-4357/ab8a47)\n"
   ]
  },
  {
   "cell_type": "markdown",
   "metadata": {
    "id": "LjBuCe8G3HBh"
   },
   "source": [
    "## Introduction\n",
    "\n",
    "Galaxies in the Universe can take on a wide variety of shapes and sizes. Galaxy morphological classification, or classifying galaxies by their shape and visual appearance, is a system used by astronomers to divide galaxies into groups. Early observations of a few hundred nearby, bright galaxies by Edwin Hubble in the 1920s led to the development of what is known as the “Hubble Sequence”, a classification scheme that identifies three main morphological types: spirals, lenticulars, and ellipticals (Hubble 1926; Sandage 1961). Although galaxies can be classified by eye, the advent of large astronomical surveys such as the SDSS has ushered in an era of big datasets and modern efforts to classify galaxies by shape largely use computational methods.\n",
    "\n",
    "### The Shape of Galaxies in the Universe\n",
    "\n",
    "<img src=\"imgs/main_image_deep_field_smacs0723-5mb.jpg\" alt=\"Alternative text\" />\n",
    "\n",
    "The above image was recently produced by the James Webb Space Telescope (JWST; NASA). This first Deep Field image features galaxy cluster SMACS 0723, and it is teeming with thousands of galaxies – including the faintest objects ever observed at infrared wavelengths. JWST’s image took roughly 12.5 hrs of telescope time to create and covers a tiny patch of sky (approximately the size of a grain of sand held at arm’s length by someone on the ground) and reveals thousands of galaxies of all shapes and sizes in just a sliver of the vast universe. This image is an excellent example of the wonderfully diverse spectrum of galaxy morphology in the Universe."
   ]
  },
  {
   "cell_type": "markdown",
   "metadata": {
    "id": "G1lyIq05mkq3"
   },
   "source": [
    "### `GaMorNet`\n",
    "\n",
    "In the tutorial below we will be using The Galaxy Morphology Network (GaMorNet). GaMorNet is a convolutional neural network that can classify galaxies as being \"disk-like\", \"elliptical-like\" or \"indeterminate\" based on how light is distributed within the galaxy. The advantage of GaMorNet is that it doesn’t need a large amount of training data to provide reliable predictions and can work across different types of data sets.\n",
    "\n",
    "Although GaMorNet is a far more sophisticated neural network than the simple example we developed to classify flowers, the basic principles remain the same. Here, GaMorNet assesses galaxy shapes by using physically relevant property of their **bulge-to-total** luminosity ratio. \n",
    "\n",
    " - Galaxies with light mainly distributed in disk structures are said to be **disk-dominated**. This is the case in, for example, spiral galaxies like our own Milky Way.\n",
    "\n",
    "- Galaxies with light primarily in large, round bulge structures are said to be **bulge-dominated**. Examples of this include massive elliptical galaxies like Messier 87 (also known as Virgo A or NGC 4486).\n",
    "\n",
    "- Galaxies where it's not entirely clear which component dominates (or in cases where the algorithm is unable to make a classification are said to be **indeterminate**.\n",
    "\n",
    "<img src=\"imgs/galaxyzoo_spiral_elliptical.jpeg\" alt=\"Alternative text\" />\n",
    "\n",
    "The above image shows an example of disk vs. elliptical type galaxy.\n",
    "\n",
    "GaMorNet assesses the distribution of light within each galaxy in an image and reports back a likelihood prediction that the galaxy is bulge-dominated, disk-dominated, or indeterminate. Because of this, each galaxy receives *three* likelihood predictions, which each range between 0 and 1.\n",
    "\n",
    "### Running `GaMorNet` in Google Colab\n",
    "\n",
    "Although this tutorial can be run on any machine which has GaMorNet installed, it's pretty handy to run this on Google Colab as you can easily use Colab's GPUs for this tutorial.\n",
    "\n",
    "Note that with the free version of CoLab, you will only have access to a limited amount of memory. Thus, the number of images we use here for training/testing our network is very small in comparison to how many would be used in astronomy research. In reality, GaMorNet can handle hundreds of thousands of images! \n",
    "\n",
    "This first section is meant to be run only when following this tutorial in Google Colab."
   ]
  },
  {
   "cell_type": "markdown",
   "metadata": {
    "id": "g2wSGVu4ihqa"
   },
   "source": [
    "### Make things Fast!"
   ]
  },
  {
   "cell_type": "markdown",
   "metadata": {
    "id": "zWvqtYGaijke"
   },
   "source": [
    "Before we dive in, let's make sure we're using a Google CoLab GPU for this tutorial.  \n",
    "\n",
    "To do this, go to the menus at the top and select \"Runtime\" -> \"Change runtime type\" -> \"Hardware accelerator\" -> \"GPU\"."
   ]
  },
  {
   "cell_type": "markdown",
   "metadata": {
    "id": "WUDD3Qke7Ws_"
   },
   "source": [
    "### Installing Libraries Needed for this Tutorial\n",
    "\n",
    "Let's first begin by using some *pip* commands to install some required libraries."
   ]
  },
  {
   "cell_type": "code",
   "execution_count": 8,
   "metadata": {
    "colab": {
     "base_uri": "https://localhost:8080/"
    },
    "id": "lBSCZfMM7WJV",
    "outputId": "21aeca76-9ddb-482e-e99a-1c0adaa6e977"
   },
   "outputs": [
    {
     "name": "stdout",
     "output_type": "stream",
     "text": [
      "Looking in indexes: https://pypi.org/simple, https://us-python.pkg.dev/colab-wheels/public/simple/\n",
      "Requirement already satisfied: matplotlib in /usr/local/lib/python3.7/dist-packages (3.2.2)\n",
      "Requirement already satisfied: python-dateutil>=2.1 in /usr/local/lib/python3.7/dist-packages (from matplotlib) (2.8.2)\n",
      "Requirement already satisfied: numpy>=1.11 in /usr/local/lib/python3.7/dist-packages (from matplotlib) (1.18.5)\n",
      "Requirement already satisfied: cycler>=0.10 in /usr/local/lib/python3.7/dist-packages (from matplotlib) (0.11.0)\n",
      "Requirement already satisfied: pyparsing!=2.0.4,!=2.1.2,!=2.1.6,>=2.0.1 in /usr/local/lib/python3.7/dist-packages (from matplotlib) (3.0.9)\n",
      "Requirement already satisfied: kiwisolver>=1.0.1 in /usr/local/lib/python3.7/dist-packages (from matplotlib) (1.4.3)\n",
      "Requirement already satisfied: typing-extensions in /usr/local/lib/python3.7/dist-packages (from kiwisolver>=1.0.1->matplotlib) (4.1.1)\n",
      "Requirement already satisfied: six>=1.5 in /usr/local/lib/python3.7/dist-packages (from python-dateutil>=2.1->matplotlib) (1.15.0)\n",
      "Looking in indexes: https://pypi.org/simple, https://us-python.pkg.dev/colab-wheels/public/simple/\n",
      "Requirement already satisfied: astropy in /usr/local/lib/python3.7/dist-packages (4.3.1)\n",
      "Requirement already satisfied: numpy>=1.17 in /usr/local/lib/python3.7/dist-packages (from astropy) (1.18.5)\n",
      "Requirement already satisfied: importlib-metadata in /usr/local/lib/python3.7/dist-packages (from astropy) (4.12.0)\n",
      "Requirement already satisfied: pyerfa>=1.7.3 in /usr/local/lib/python3.7/dist-packages (from astropy) (2.0.0.1)\n",
      "Requirement already satisfied: zipp>=0.5 in /usr/local/lib/python3.7/dist-packages (from importlib-metadata->astropy) (3.8.0)\n",
      "Requirement already satisfied: typing-extensions>=3.6.4 in /usr/local/lib/python3.7/dist-packages (from importlib-metadata->astropy) (4.1.1)\n",
      "Looking in indexes: https://pypi.org/simple, https://us-python.pkg.dev/colab-wheels/public/simple/\n",
      "Requirement already satisfied: numpy in /usr/local/lib/python3.7/dist-packages (1.18.5)\n"
     ]
    }
   ],
   "source": [
    "!pip install matplotlib\n",
    "!pip install astropy\n",
    "!pip install numpy"
   ]
  },
  {
   "cell_type": "markdown",
   "metadata": {
    "id": "en4lZVmont-b"
   },
   "source": [
    "### Install GaMorNet\n",
    "\n",
    "Next, let's install the GaMorNet software."
   ]
  },
  {
   "cell_type": "code",
   "execution_count": 9,
   "metadata": {
    "id": "WbBNuljhhnyf"
   },
   "outputs": [],
   "source": [
    "import os\n",
    "# Suppressing TF warnings and info for a cleaner environ\n",
    "# Set this to 0,1 for info and warnings respectively.\n",
    "os.environ['TF_CPP_MIN_LOG_LEVEL'] = '2' \n",
    " \n",
    "# Magic telling Colab we want TF version ~=1.0\n",
    "%tensorflow_version 1.x\n",
    "\n",
    "!pip install -q --upgrade gamornet"
   ]
  },
  {
   "cell_type": "code",
   "execution_count": 10,
   "metadata": {
    "colab": {
     "base_uri": "https://localhost:8080/"
    },
    "id": "AYsnfr7tj3D-",
    "outputId": "83917f28-ca3b-465a-c58e-ef761eae91c0"
   },
   "outputs": [
    {
     "name": "stdout",
     "output_type": "stream",
     "text": [
      "1.15.2\n",
      "0.4.3\n"
     ]
    }
   ],
   "source": [
    "##Checking which version of Tensorflow & GaMorNet is being used and whether the installation worked.\n",
    "import tensorflow as tf\n",
    "import gamornet\n",
    "print(tf.__version__)\n",
    "print(gamornet.__version__)\n",
    "from gamornet.keras_module import gamornet_train_keras, gamornet_tl_keras, gamornet_predict_keras\n",
    "from gamornet.tflearn_module import gamornet_train_tflearn, gamornet_tl_tflearn, gamornet_predict_tflearn"
   ]
  },
  {
   "cell_type": "markdown",
   "metadata": {
    "id": "svdqWX2sE7xw"
   },
   "source": [
    "\n",
    "The following snippet will verify that we have access to a GPU."
   ]
  },
  {
   "cell_type": "code",
   "execution_count": 11,
   "metadata": {
    "colab": {
     "base_uri": "https://localhost:8080/"
    },
    "id": "QF9QiuyuE7ih",
    "outputId": "d7842bfd-724a-4c0e-e4bd-eb0c9fbc5119"
   },
   "outputs": [
    {
     "name": "stdout",
     "output_type": "stream",
     "text": [
      "SUCCESS: Found GPU: /device:GPU:0\n"
     ]
    }
   ],
   "source": [
    "#Checking access to GPU\n",
    "import tensorflow as tf\n",
    "if tf.test.gpu_device_name() != '/device:GPU:0':\n",
    "  print('WARNING: GPU device not found.')\n",
    "else:\n",
    "  print('SUCCESS: Found GPU: {}'.format(tf.test.gpu_device_name()))"
   ]
  },
  {
   "cell_type": "markdown",
   "metadata": {
    "id": "NZdvFR_IgTmn"
   },
   "source": [
    "## Training with `GaMorNet`"
   ]
  },
  {
   "cell_type": "markdown",
   "metadata": {
    "id": "Q0MNIlNUSZJ8"
   },
   "source": [
    "GaMorNet can quite easily be trained from scratch using images. \n",
    "\n",
    "In this demonstration, we will use 90 *simulated* SDSS images for the purposes of training and 10 *simulated* SDSS images for validation. All these simulated images come from the set of simulated galaxies created for the paper referenced above. Note: these are not images of actual galaxies. They have been created using software to mimic the wide variety of galaxies observed in the wild.\n",
    "\n",
    "All these images contain disk + bulge components. As described in the paper, Ghosh et al. (2020) has also convolved these simulations with a representative point-spread-function and added representative noise to better mimic actual scientific data. "
   ]
  },
  {
   "cell_type": "markdown",
   "metadata": {
    "id": "KwzpM9YMUPqn"
   },
   "source": [
    "### Downloading the Data\n",
    "\n",
    "First, let's download the images that we are going to use to train GaMorNet. We will download these into the local filesystem from Yale Astronomy's FTP service, where these are hosted.\n",
    "\n",
    "We are going to download all the 100 images (90+10) as a single archive and then export it to a single folder called `training_imgs`. The images are in the FITS format and are named `output_img_xx.fits` where xx runs from 0 to 99.\n",
    "\n",
    "We are also going to download the `sim_para.txt` file containing the ground-truth parameters for the above galaxies. Using these values, we are going to calculate the bulge-to-total light ratio of each galaxy and determine the labels to be used during the training process. \n",
    "\n",
    "\n",
    "*Tip: The `%%bash` command lets Colab know that all the commands in this shell needs to be passed the local unix virtual environment.*\n",
    "\n",
    "*Tip: To view the files in use on Colab, click the folder icon on the left sidebar.*"
   ]
  },
  {
   "cell_type": "code",
   "execution_count": 12,
   "metadata": {
    "colab": {
     "base_uri": "https://localhost:8080/"
    },
    "id": "6TThUIR8Y4lc",
    "outputId": "00112db5-66da-4142-c922-c4b6679af21c"
   },
   "outputs": [
    {
     "name": "stdout",
     "output_type": "stream",
     "text": [
      "./train_images/output_img_0.fits\n",
      "./train_images/output_img_10.fits\n",
      "./train_images/output_img_11.fits\n",
      "./train_images/output_img_12.fits\n",
      "./train_images/output_img_13.fits\n",
      "./train_images/output_img_14.fits\n",
      "./train_images/output_img_15.fits\n",
      "./train_images/output_img_16.fits\n",
      "./train_images/output_img_17.fits\n",
      "./train_images/output_img_18.fits\n",
      "./train_images/output_img_19.fits\n",
      "./train_images/output_img_1.fits\n",
      "./train_images/output_img_20.fits\n",
      "./train_images/output_img_21.fits\n",
      "./train_images/output_img_22.fits\n",
      "./train_images/output_img_23.fits\n",
      "./train_images/output_img_24.fits\n",
      "./train_images/output_img_25.fits\n",
      "./train_images/output_img_26.fits\n",
      "./train_images/output_img_27.fits\n",
      "./train_images/output_img_28.fits\n",
      "./train_images/output_img_29.fits\n",
      "./train_images/output_img_2.fits\n",
      "./train_images/output_img_30.fits\n",
      "./train_images/output_img_31.fits\n",
      "./train_images/output_img_32.fits\n",
      "./train_images/output_img_33.fits\n",
      "./train_images/output_img_34.fits\n",
      "./train_images/output_img_35.fits\n",
      "./train_images/output_img_36.fits\n",
      "./train_images/output_img_37.fits\n",
      "./train_images/output_img_38.fits\n",
      "./train_images/output_img_39.fits\n",
      "./train_images/output_img_3.fits\n",
      "./train_images/output_img_40.fits\n",
      "./train_images/output_img_41.fits\n",
      "./train_images/output_img_42.fits\n",
      "./train_images/output_img_43.fits\n",
      "./train_images/output_img_44.fits\n",
      "./train_images/output_img_45.fits\n",
      "./train_images/output_img_46.fits\n",
      "./train_images/output_img_47.fits\n",
      "./train_images/output_img_48.fits\n",
      "./train_images/output_img_49.fits\n",
      "./train_images/output_img_4.fits\n",
      "./train_images/output_img_50.fits\n",
      "./train_images/output_img_51.fits\n",
      "./train_images/output_img_52.fits\n",
      "./train_images/output_img_53.fits\n",
      "./train_images/output_img_54.fits\n",
      "./train_images/output_img_55.fits\n",
      "./train_images/output_img_56.fits\n",
      "./train_images/output_img_57.fits\n",
      "./train_images/output_img_58.fits\n",
      "./train_images/output_img_59.fits\n",
      "./train_images/output_img_5.fits\n",
      "./train_images/output_img_60.fits\n",
      "./train_images/output_img_61.fits\n",
      "./train_images/output_img_62.fits\n",
      "./train_images/output_img_63.fits\n",
      "./train_images/output_img_64.fits\n",
      "./train_images/output_img_65.fits\n",
      "./train_images/output_img_66.fits\n",
      "./train_images/output_img_67.fits\n",
      "./train_images/output_img_68.fits\n",
      "./train_images/output_img_69.fits\n",
      "./train_images/output_img_6.fits\n",
      "./train_images/output_img_70.fits\n",
      "./train_images/output_img_71.fits\n",
      "./train_images/output_img_72.fits\n",
      "./train_images/output_img_73.fits\n",
      "./train_images/output_img_74.fits\n",
      "./train_images/output_img_75.fits\n",
      "./train_images/output_img_76.fits\n",
      "./train_images/output_img_77.fits\n",
      "./train_images/output_img_78.fits\n",
      "./train_images/output_img_79.fits\n",
      "./train_images/output_img_7.fits\n",
      "./train_images/output_img_80.fits\n",
      "./train_images/output_img_81.fits\n",
      "./train_images/output_img_82.fits\n",
      "./train_images/output_img_83.fits\n",
      "./train_images/output_img_84.fits\n",
      "./train_images/output_img_85.fits\n",
      "./train_images/output_img_86.fits\n",
      "./train_images/output_img_87.fits\n",
      "./train_images/output_img_88.fits\n",
      "./train_images/output_img_89.fits\n",
      "./train_images/output_img_8.fits\n",
      "./train_images/output_img_90.fits\n",
      "./train_images/output_img_91.fits\n",
      "./train_images/output_img_92.fits\n",
      "./train_images/output_img_93.fits\n",
      "./train_images/output_img_94.fits\n",
      "./train_images/output_img_95.fits\n",
      "./train_images/output_img_96.fits\n",
      "./train_images/output_img_97.fits\n",
      "./train_images/output_img_98.fits\n",
      "./train_images/output_img_99.fits\n",
      "./train_images/output_img_9.fits\n"
     ]
    },
    {
     "name": "stderr",
     "output_type": "stream",
     "text": [
      "--2022-07-13 23:17:12--  ftp://ftp.astro.yale.edu/pub/aghosh/gamornet_tutorial_files/train_images/training_imgs.tar.gz\n",
      "           => ‘training_imgs.tar.gz.1’\n",
      "Resolving ftp.astro.yale.edu (ftp.astro.yale.edu)... 128.36.139.12\n",
      "Connecting to ftp.astro.yale.edu (ftp.astro.yale.edu)|128.36.139.12|:21... connected.\n",
      "Logging in as anonymous ... Logged in!\n",
      "==> SYST ... done.    ==> PWD ... done.\n",
      "==> TYPE I ... done.  ==> CWD (1) /pub/aghosh/gamornet_tutorial_files/train_images ... done.\n",
      "==> SIZE training_imgs.tar.gz ... 13849775\n",
      "==> PASV ... done.    ==> RETR training_imgs.tar.gz ... done.\n",
      "Length: 13849775 (13M) (unauthoritative)\n",
      "\n",
      "     0K .......... .......... .......... .......... ..........  0%  110K 2m3s\n",
      "    50K .......... .......... .......... .......... ..........  0%  219K 92s\n",
      "   100K .......... .......... .......... .......... ..........  1%  202M 61s\n",
      "   150K .......... .......... .......... .......... ..........  1%  214K 61s\n",
      "   200K .......... .......... .......... .......... ..........  1%  198M 49s\n",
      "   250K .......... .......... .......... .......... ..........  2%  217K 51s\n",
      "   300K .......... .......... .......... .......... ..........  2% 30.6M 43s\n",
      "   350K .......... .......... .......... .......... ..........  2% 48.6M 38s\n",
      "   400K .......... .......... .......... .......... ..........  3% 83.2M 33s\n",
      "   450K .......... .......... .......... .......... ..........  3%  286M 30s\n",
      "   500K .......... .......... .......... .......... ..........  4%  227K 32s\n",
      "   550K .......... .......... .......... .......... ..........  4% 32.7M 30s\n",
      "   600K .......... .......... .......... .......... ..........  4% 52.6M 27s\n",
      "   650K .......... .......... .......... .......... ..........  5% 50.7M 25s\n",
      "   700K .......... .......... .......... .......... ..........  5% 56.6M 23s\n",
      "   750K .......... .......... .......... .......... ..........  5% 52.6M 22s\n",
      "   800K .......... .......... .......... .......... ..........  6% 51.2M 21s\n",
      "   850K .......... .......... .......... .......... ..........  6% 54.1M 19s\n",
      "   900K .......... .......... .......... .......... ..........  7% 60.7M 18s\n",
      "   950K .......... .......... .......... .......... ..........  7% 51.1M 17s\n",
      "  1000K .......... .......... .......... .......... ..........  7%  234K 19s\n",
      "  1050K .......... .......... .......... .......... ..........  8% 37.1M 18s\n",
      "  1100K .......... .......... .......... .......... ..........  8% 44.4M 17s\n",
      "  1150K .......... .......... .......... .......... ..........  8% 58.2M 16s\n",
      "  1200K .......... .......... .......... .......... ..........  9% 63.2M 16s\n",
      "  1250K .......... .......... .......... .......... ..........  9% 60.9M 15s\n",
      "  1300K .......... .......... .......... .......... ..........  9% 62.9M 14s\n",
      "  1350K .......... .......... .......... .......... .......... 10% 78.7M 14s\n",
      "  1400K .......... .......... .......... .......... .......... 10% 67.1M 13s\n",
      "  1450K .......... .......... .......... .......... .......... 11% 67.9M 13s\n",
      "  1500K .......... .......... .......... .......... .......... 11% 73.3M 12s\n",
      "  1550K .......... .......... .......... .......... .......... 11% 69.6M 12s\n",
      "  1600K .......... .......... .......... .......... .......... 12% 80.5M 12s\n",
      "  1650K .......... .......... .......... .......... .......... 12% 76.1M 11s\n",
      "  1700K .......... .......... .......... .......... .......... 12% 75.7M 11s\n",
      "  1750K .......... .......... .......... .......... .......... 13% 84.5M 10s\n",
      "  1800K .......... .......... .......... .......... .......... 13% 72.1M 10s\n",
      "  1850K .......... .......... .......... .......... .......... 14% 78.4M 10s\n",
      "  1900K .......... .......... .......... .......... .......... 14% 83.6M 10s\n",
      "  1950K .......... .......... .......... .......... .......... 14% 71.9M 9s\n",
      "  2000K .......... .......... .......... .......... .......... 15% 85.1M 9s\n",
      "  2050K .......... .......... .......... .......... .......... 15%  240K 10s\n",
      "  2100K .......... .......... .......... .......... .......... 15% 69.8M 10s\n",
      "  2150K .......... .......... .......... .......... .......... 16% 60.8M 9s\n",
      "  2200K .......... .......... .......... .......... .......... 16% 52.1M 9s\n",
      "  2250K .......... .......... .......... .......... .......... 17%  137M 9s\n",
      "  2300K .......... .......... .......... .......... .......... 17% 99.0M 9s\n",
      "  2350K .......... .......... .......... .......... .......... 17% 81.2M 8s\n",
      "  2400K .......... .......... .......... .......... .......... 18%  103M 8s\n",
      "  2450K .......... .......... .......... .......... .......... 18%  110M 8s\n",
      "  2500K .......... .......... .......... .......... .......... 18%  102M 8s\n",
      "  2550K .......... .......... .......... .......... .......... 19%  122M 8s\n",
      "  2600K .......... .......... .......... .......... .......... 19%  105M 7s\n",
      "  2650K .......... .......... .......... .......... .......... 19%  104M 7s\n",
      "  2700K .......... .......... .......... .......... .......... 20%  139M 7s\n",
      "  2750K .......... .......... .......... .......... .......... 20% 93.7M 7s\n",
      "  2800K .......... .......... .......... .......... .......... 21%  144M 7s\n",
      "  2850K .......... .......... .......... .......... .......... 21%  108M 7s\n",
      "  2900K .......... .......... .......... .......... .......... 21%  105M 7s\n",
      "  2950K .......... .......... .......... .......... .......... 22%  118M 6s\n",
      "  3000K .......... .......... .......... .......... .......... 22%  124M 6s\n",
      "  3050K .......... .......... .......... .......... .......... 22%  108M 6s\n",
      "  3100K .......... .......... .......... .......... .......... 23%  102M 6s\n",
      "  3150K .......... .......... .......... .......... .......... 23%  123M 6s\n",
      "  3200K .......... .......... .......... .......... .......... 24%  107M 6s\n",
      "  3250K .......... .......... .......... .......... .......... 24%  107M 6s\n",
      "  3300K .......... .......... .......... .......... .......... 24%  113M 6s\n",
      "  3350K .......... .......... .......... .......... .......... 25%  101M 5s\n",
      "  3400K .......... .......... .......... .......... .......... 25%  125M 5s\n",
      "  3450K .......... .......... .......... .......... .......... 25%  104M 5s\n",
      "  3500K .......... .......... .......... .......... .......... 26%  123M 5s\n",
      "  3550K .......... .......... .......... .......... .......... 26%  111M 5s\n",
      "  3600K .......... .......... .......... .......... .......... 26%  116M 5s\n",
      "  3650K .......... .......... .......... .......... .......... 27%  125M 5s\n",
      "  3700K .......... .......... .......... .......... .......... 27%  109M 5s\n",
      "  3750K .......... .......... .......... .......... .......... 28%  107M 5s\n",
      "  3800K .......... .......... .......... .......... .......... 28% 99.8M 5s\n",
      "  3850K .......... .......... .......... .......... .......... 28%  130M 5s\n",
      "  3900K .......... .......... .......... .......... .......... 29%  111M 4s\n",
      "  3950K .......... .......... .......... .......... .......... 29%  117M 4s\n",
      "  4000K .......... .......... .......... .......... .......... 29%  117M 4s\n",
      "  4050K .......... .......... .......... .......... .......... 30%  245K 5s\n",
      "  4100K .......... .......... .......... .......... .......... 30%  107M 5s\n",
      "  4150K .......... .......... .......... .......... .......... 31%  126M 5s\n",
      "  4200K .......... .......... .......... .......... .......... 31%  110M 4s\n",
      "  4250K .......... .......... .......... .......... .......... 31%  117M 4s\n",
      "  4300K .......... .......... .......... .......... .......... 32%  109M 4s\n",
      "  4350K .......... .......... .......... .......... .......... 32%  124M 4s\n",
      "  4400K .......... .......... .......... .......... .......... 32%  112M 4s\n",
      "  4450K .......... .......... .......... .......... .......... 33%  101M 4s\n",
      "  4500K .......... .......... .......... .......... .......... 33%  119M 4s\n",
      "  4550K .......... .......... .......... .......... .......... 34%  120M 4s\n",
      "  4600K .......... .......... .......... .......... .......... 34%  106M 4s\n",
      "  4650K .......... .......... .......... .......... .......... 34%  110M 4s\n",
      "  4700K .......... .......... .......... .......... .......... 35%  108M 4s\n",
      "  4750K .......... .......... .......... .......... .......... 35%  130M 4s\n",
      "  4800K .......... .......... .......... .......... .......... 35%  120M 4s\n",
      "  4850K .......... .......... .......... .......... .......... 36% 98.9M 4s\n",
      "  4900K .......... .......... .......... .......... .......... 36%  119M 4s\n",
      "  4950K .......... .......... .......... .......... .......... 36%  112M 3s\n",
      "  5000K .......... .......... .......... .......... .......... 37%  116M 3s\n",
      "  5050K .......... .......... .......... .......... .......... 37%  117M 3s\n",
      "  5100K .......... .......... .......... .......... .......... 38% 92.0M 3s\n",
      "  5150K .......... .......... .......... .......... .......... 38%  122M 3s\n",
      "  5200K .......... .......... .......... .......... .......... 38%  119M 3s\n",
      "  5250K .......... .......... .......... .......... .......... 39%  111M 3s\n",
      "  5300K .......... .......... .......... .......... .......... 39%  101M 3s\n",
      "  5350K .......... .......... .......... .......... .......... 39%  111M 3s\n",
      "  5400K .......... .......... .......... .......... .......... 40%  122M 3s\n",
      "  5450K .......... .......... .......... .......... .......... 40%  109M 3s\n",
      "  5500K .......... .......... .......... .......... .......... 41%  122M 3s\n",
      "  5550K .......... .......... .......... .......... .......... 41%  116M 3s\n",
      "  5600K .......... .......... .......... .......... .......... 41% 37.5M 3s\n",
      "  5650K .......... .......... .......... .......... .......... 42%  160M 3s\n",
      "  5700K .......... .......... .......... .......... .......... 42%  139M 3s\n",
      "  5750K .......... .......... .......... .......... .......... 42%  144M 3s\n",
      "  5800K .......... .......... .......... .......... .......... 43%  138M 3s\n",
      "  5850K .......... .......... .......... .......... .......... 43%  138M 3s\n",
      "  5900K .......... .......... .......... .......... .......... 43%  187M 3s\n",
      "  5950K .......... .......... .......... .......... .......... 44%  178M 3s\n",
      "  6000K .......... .......... .......... .......... .......... 44%  123M 3s\n",
      "  6050K .......... .......... .......... .......... .......... 45%  123M 3s\n",
      "  6100K .......... .......... .......... .......... .......... 45% 97.5M 2s\n",
      "  6150K .......... .......... .......... .......... .......... 45%  108M 2s\n",
      "  6200K .......... .......... .......... .......... .......... 46%  122M 2s\n",
      "  6250K .......... .......... .......... .......... .......... 46%  105M 2s\n",
      "  6300K .......... .......... .......... .......... .......... 46%  123M 2s\n",
      "  6350K .......... .......... .......... .......... .......... 47%  101M 2s\n",
      "  6400K .......... .......... .......... .......... .......... 47%  137M 2s\n",
      "  6450K .......... .......... .......... .......... .......... 48%  101M 2s\n",
      "  6500K .......... .......... .......... .......... .......... 48%  109M 2s\n",
      "  6550K .......... .......... .......... .......... .......... 48%  107M 2s\n",
      "  6600K .......... .......... .......... .......... .......... 49%  105M 2s\n",
      "  6650K .......... .......... .......... .......... .......... 49%  138M 2s\n",
      "  6700K .......... .......... .......... .......... .......... 49%  111M 2s\n",
      "  6750K .......... .......... .......... .......... .......... 50%  118M 2s\n",
      "  6800K .......... .......... .......... .......... .......... 50%  116M 2s\n",
      "  6850K .......... .......... .......... .......... .......... 51%  110M 2s\n",
      "  6900K .......... .......... .......... .......... .......... 51%  114M 2s\n",
      "  6950K .......... .......... .......... .......... .......... 51% 96.6M 2s\n",
      "  7000K .......... .......... .......... .......... .......... 52%  249K 2s\n",
      "  7050K .......... .......... .......... .......... .......... 52%  133M 2s\n",
      "  7100K .......... .......... .......... .......... .......... 52%  109M 2s\n",
      "  7150K .......... .......... .......... .......... .......... 53%  122M 2s\n",
      "  7200K .......... .......... .......... .......... .......... 53%  118M 2s\n",
      "  7250K .......... .......... .......... .......... .......... 53%  108M 2s\n",
      "  7300K .......... .......... .......... .......... .......... 54% 99.4M 2s\n",
      "  7350K .......... .......... .......... .......... .......... 54%  121M 2s\n",
      "  7400K .......... .......... .......... .......... .......... 55%  100M 2s\n",
      "  7450K .......... .......... .......... .......... .......... 55%  122M 2s\n",
      "  7500K .......... .......... .......... .......... .......... 55%  124M 2s\n",
      "  7550K .......... .......... .......... .......... .......... 56% 94.9M 2s\n",
      "  7600K .......... .......... .......... .......... .......... 56%  122M 2s\n",
      "  7650K .......... .......... .......... .......... .......... 56%  119M 2s\n",
      "  7700K .......... .......... .......... .......... .......... 57%  118M 2s\n",
      "  7750K .......... .......... .......... .......... .......... 57%  113M 2s\n",
      "  7800K .......... .......... .......... .......... .......... 58%  120M 2s\n",
      "  7850K .......... .......... .......... .......... .......... 58%  106M 2s\n",
      "  7900K .......... .......... .......... .......... .......... 58%  102M 2s\n",
      "  7950K .......... .......... .......... .......... .......... 59%  105M 2s\n",
      "  8000K .......... .......... .......... .......... .......... 59%  127M 2s\n",
      "  8050K .......... .......... .......... .......... .......... 59%  109M 2s\n",
      "  8100K .......... .......... .......... .......... .......... 60%  119M 2s\n",
      "  8150K .......... .......... .......... .......... .......... 60% 95.4M 1s\n",
      "  8200K .......... .......... .......... .......... .......... 60%  123M 1s\n",
      "  8250K .......... .......... .......... .......... .......... 61%  112M 1s\n",
      "  8300K .......... .......... .......... .......... .......... 61%  125M 1s\n",
      "  8350K .......... .......... .......... .......... .......... 62%  104M 1s\n",
      "  8400K .......... .......... .......... .......... .......... 62%  107M 1s\n",
      "  8450K .......... .......... .......... .......... .......... 62%  115M 1s\n",
      "  8500K .......... .......... .......... .......... .......... 63% 87.1M 1s\n",
      "  8550K .......... .......... .......... .......... .......... 63%  169M 1s\n",
      "  8600K .......... .......... .......... .......... .......... 63%  110M 1s\n",
      "  8650K .......... .......... .......... .......... .......... 64%  122M 1s\n",
      "  8700K .......... .......... .......... .......... .......... 64%  115M 1s\n",
      "  8750K .......... .......... .......... .......... .......... 65%  112M 1s\n",
      "  8800K .......... .......... .......... .......... .......... 65%  111M 1s\n",
      "  8850K .......... .......... .......... .......... .......... 65%  105M 1s\n",
      "  8900K .......... .......... .......... .......... .......... 66%  102M 1s\n",
      "  8950K .......... .......... .......... .......... .......... 66%  123M 1s\n",
      "  9000K .......... .......... .......... .......... .......... 66%  113M 1s\n",
      "  9050K .......... .......... .......... .......... .......... 67%  108M 1s\n",
      "  9100K .......... .......... .......... .......... .......... 67%  118M 1s\n",
      "  9150K .......... .......... .......... .......... .......... 68%  127M 1s\n",
      "  9200K .......... .......... .......... .......... .......... 68% 91.9M 1s\n",
      "  9250K .......... .......... .......... .......... .......... 68%  129M 1s\n",
      "  9300K .......... .......... .......... .......... .......... 69% 98.1M 1s\n",
      "  9350K .......... .......... .......... .......... .......... 69%  120M 1s\n",
      "  9400K .......... .......... .......... .......... .......... 69%  132M 1s\n",
      "  9450K .......... .......... .......... .......... .......... 70% 88.0M 1s\n",
      "  9500K .......... .......... .......... .......... .......... 70%  137M 1s\n",
      "  9550K .......... .......... .......... .......... .......... 70% 96.3M 1s\n",
      "  9600K .......... .......... .......... .......... .......... 71%  142M 1s\n",
      "  9650K .......... .......... .......... .......... .......... 71%  107M 1s\n",
      "  9700K .......... .......... .......... .......... .......... 72%  118M 1s\n",
      "  9750K .......... .......... .......... .......... .......... 72% 95.1M 1s\n",
      "  9800K .......... .......... .......... .......... .......... 72%  131M 1s\n",
      "  9850K .......... .......... .......... .......... .......... 73%  120M 1s\n",
      "  9900K .......... .......... .......... .......... .......... 73% 93.0M 1s\n",
      "  9950K .......... .......... .......... .......... .......... 73%  249K 1s\n",
      " 10000K .......... .......... .......... .......... .......... 74%  116M 1s\n",
      " 10050K .......... .......... .......... .......... .......... 74% 92.4M 1s\n",
      " 10100K .......... .......... .......... .......... .......... 75%  121M 1s\n",
      " 10150K .......... .......... .......... .......... .......... 75% 94.8M 1s\n",
      " 10200K .......... .......... .......... .......... .......... 75% 95.0M 1s\n",
      " 10250K .......... .......... .......... .......... .......... 76% 73.4M 1s\n",
      " 10300K .......... .......... .......... .......... .......... 76%  260M 1s\n",
      " 10350K .......... .......... .......... .......... .......... 76%  113M 1s\n",
      " 10400K .......... .......... .......... .......... .......... 77% 99.1M 1s\n",
      " 10450K .......... .......... .......... .......... .......... 77%  113M 1s\n",
      " 10500K .......... .......... .......... .......... .......... 78%  125M 1s\n",
      " 10550K .......... .......... .......... .......... .......... 78%  112M 1s\n",
      " 10600K .......... .......... .......... .......... .......... 78%  114M 1s\n",
      " 10650K .......... .......... .......... .......... .......... 79%  104M 1s\n",
      " 10700K .......... .......... .......... .......... .......... 79%  131M 1s\n",
      " 10750K .......... .......... .......... .......... .......... 79% 91.4M 1s\n",
      " 10800K .......... .......... .......... .......... .......... 80%  142M 1s\n",
      " 10850K .......... .......... .......... .......... .......... 80% 96.6M 1s\n",
      " 10900K .......... .......... .......... .......... .......... 80%  129M 1s\n",
      " 10950K .......... .......... .......... .......... .......... 81%  117M 1s\n",
      " 11000K .......... .......... .......... .......... .......... 81%  104M 1s\n",
      " 11050K .......... .......... .......... .......... .......... 82%  110M 1s\n",
      " 11100K .......... .......... .......... .......... .......... 82%  115M 1s\n",
      " 11150K .......... .......... .......... .......... .......... 82%  116M 1s\n",
      " 11200K .......... .......... .......... .......... .......... 83%  107M 1s\n",
      " 11250K .......... .......... .......... .......... .......... 83%  113M 0s\n",
      " 11300K .......... .......... .......... .......... .......... 83%  106M 0s\n",
      " 11350K .......... .......... .......... .......... .......... 84%  113M 0s\n",
      " 11400K .......... .......... .......... .......... .......... 84%  117M 0s\n",
      " 11450K .......... .......... .......... .......... .......... 85%  111M 0s\n",
      " 11500K .......... .......... .......... .......... .......... 85%  114M 0s\n",
      " 11550K .......... .......... .......... .......... .......... 85%  125M 0s\n",
      " 11600K .......... .......... .......... .......... .......... 86%  104M 0s\n",
      " 11650K .......... .......... .......... .......... .......... 86%  111M 0s\n",
      " 11700K .......... .......... .......... .......... .......... 86%  113M 0s\n",
      " 11750K .......... .......... .......... .......... .......... 87% 93.7M 0s\n",
      " 11800K .......... .......... .......... .......... .......... 87%  128M 0s\n",
      " 11850K .......... .......... .......... .......... .......... 87%  124M 0s\n",
      " 11900K .......... .......... .......... .......... .......... 88%  111M 0s\n",
      " 11950K .......... .......... .......... .......... .......... 88%  115M 0s\n",
      " 12000K .......... .......... .......... .......... .......... 89%  114M 0s\n",
      " 12050K .......... .......... .......... .......... .......... 89%  108M 0s\n",
      " 12100K .......... .......... .......... .......... .......... 89%  121M 0s\n",
      " 12150K .......... .......... .......... .......... .......... 90%  104M 0s\n",
      " 12200K .......... .......... .......... .......... .......... 90%  113M 0s\n",
      " 12250K .......... .......... .......... .......... .......... 90%  112M 0s\n",
      " 12300K .......... .......... .......... .......... .......... 91%  115M 0s\n",
      " 12350K .......... .......... .......... .......... .......... 91%  105M 0s\n",
      " 12400K .......... .......... .......... .......... .......... 92%  121M 0s\n",
      " 12450K .......... .......... .......... .......... .......... 92%  104M 0s\n",
      " 12500K .......... .......... .......... .......... .......... 92%  114M 0s\n",
      " 12550K .......... .......... .......... .......... .......... 93%  113M 0s\n",
      " 12600K .......... .......... .......... .......... .......... 93%  123M 0s\n",
      " 12650K .......... .......... .......... .......... .......... 93%  107M 0s\n",
      " 12700K .......... .......... .......... .......... .......... 94%  114M 0s\n",
      " 12750K .......... .......... .......... .......... .......... 94%  112M 0s\n",
      " 12800K .......... .......... .......... .......... .......... 95%  105M 0s\n",
      " 12850K .......... .......... .......... .......... .......... 95%  123M 0s\n",
      " 12900K .......... .......... .......... .......... .......... 95%  249K 0s\n",
      " 12950K .......... .......... .......... .......... .......... 96% 95.7M 0s\n",
      " 13000K .......... .......... .......... .......... .......... 96%  126M 0s\n",
      " 13050K .......... .......... .......... .......... .......... 96%  102M 0s\n",
      " 13100K .......... .......... .......... .......... .......... 97% 93.1M 0s\n",
      " 13150K .......... .......... .......... .......... .......... 97%  111M 0s\n",
      " 13200K .......... .......... .......... .......... .......... 97% 95.6M 0s\n",
      " 13250K .......... .......... .......... .......... .......... 98%  109M 0s\n",
      " 13300K .......... .......... .......... .......... .......... 98%  126M 0s\n",
      " 13350K .......... .......... .......... .......... .......... 99%  103M 0s\n",
      " 13400K .......... .......... .......... .......... .......... 99%  117M 0s\n",
      " 13450K .......... .......... .......... .......... .......... 99%  109M 0s\n",
      " 13500K .......... .......... .....                           100%  119M=2.7s\n",
      "\n",
      "2022-07-13 23:17:18 (4.85 MB/s) - ‘training_imgs.tar.gz.1’ saved [13849775]\n",
      "\n",
      "--2022-07-13 23:17:18--  ftp://ftp.astro.yale.edu/pub/aghosh/gamornet_tutorial_files/train_images/sim_para.txt\n",
      "           => ‘sim_para.txt.1’\n",
      "Resolving ftp.astro.yale.edu (ftp.astro.yale.edu)... 128.36.139.12\n",
      "Connecting to ftp.astro.yale.edu (ftp.astro.yale.edu)|128.36.139.12|:21... connected.\n",
      "Logging in as anonymous ... Logged in!\n",
      "==> SYST ... done.    ==> PWD ... done.\n",
      "==> TYPE I ... done.  ==> CWD (1) /pub/aghosh/gamornet_tutorial_files/train_images ... done.\n",
      "==> SIZE sim_para.txt ... 11676\n",
      "==> PASV ... done.    ==> RETR sim_para.txt ... done.\n",
      "Length: 11676 (11K) (unauthoritative)\n",
      "\n",
      "     0K .......... .                                          100% 3.85M=0.003s\n",
      "\n",
      "2022-07-13 23:17:21 (3.85 MB/s) - ‘sim_para.txt.1’ saved [11676]\n",
      "\n"
     ]
    }
   ],
   "source": [
    "%%bash\n",
    "#get zip and txt file from server\n",
    "wget ftp://ftp.astro.yale.edu/pub/aghosh/gamornet_tutorial_files/train_images/training_imgs.tar.gz\n",
    "wget ftp://ftp.astro.yale.edu/pub/aghosh/gamornet_tutorial_files/train_images/sim_para.txt\n",
    "\n",
    "#Unzip the Archive\n",
    "tar -xvf training_imgs.tar.gz"
   ]
  },
  {
   "cell_type": "markdown",
   "metadata": {
    "id": "ikheBSGd5PqF"
   },
   "source": [
    "In the cell below, write a code block which visualizes one of the training set FITS files."
   ]
  },
  {
   "cell_type": "code",
   "execution_count": 16,
   "metadata": {
    "colab": {
     "base_uri": "https://localhost:8080/",
     "height": 286
    },
    "id": "OWj6MLH55dQC",
    "outputId": "9abdcce0-f0bc-4075-f74a-6546e61b1cac"
   },
   "outputs": [
    {
     "data": {
      "text/plain": [
       "<matplotlib.colorbar.Colorbar at 0x7fbf81cbb450>"
      ]
     },
     "execution_count": 16,
     "metadata": {},
     "output_type": "execute_result"
    },
    {
     "data": {
      "image/png": "[encoded data removed]",
      "text/plain": [
       "<Figure size 432x288 with 2 Axes>"
      ]
     },
     "metadata": {
      "needs_background": "light"
     },
     "output_type": "display_data"
    }
   ],
   "source": [
    "import numpy as np\n",
    "\n",
    "# Set up matplotlib\n",
    "import matplotlib.pyplot as plt\n",
    "%matplotlib inline\n",
    "\n",
    "from astropy.io import fits\n",
    "\n",
    "image_file = \"train_images/output_img_25.fits\"\n",
    "image_data = fits.getdata(image_file)\n",
    "\n",
    "plt.imshow(image_data, cmap='plasma')\n",
    "plt.colorbar()"
   ]
  },
  {
   "cell_type": "markdown",
   "metadata": {
    "id": "mWNc2QMWBXCN"
   },
   "source": [
    "***\n",
    "\n",
    "#### Q - Iterate through visualizing some of the training data images. How well do they resemble real galaxies? Why might astronomers choose to use simulated images as training data?\n",
    "\n",
    "***\n",
    "\n",
    "Ans. Here"
   ]
  },
  {
   "cell_type": "markdown",
   "metadata": {
    "id": "NAwLO4hk-C3Q"
   },
   "source": [
    "### Preparing the Data\n",
    "\n",
    "In this section, we will generate the training and validation image arrays as well as the corresponding labels to be used during the networks' training process.\n",
    "\n",
    "\n",
    "First, let's read in the `.txt` file and calculate the difference in disk and bulge magnitudes (i.e. brightnesses) for each of the galaxies."
   ]
  },
  {
   "cell_type": "code",
   "execution_count": 17,
   "metadata": {
    "id": "ex46Lm2c_3I8"
   },
   "outputs": [],
   "source": [
    "import pylab as plt\n",
    "\n",
    "#Let's read in the sim_para.txt file \n",
    "gal_para = plt.genfromtxt(\"./sim_para.txt\",names=True,usecols = (4,11))\n",
    " \n",
    "#difference b/w the integrated magnitude of the disk and bulge components. \n",
    "#The rows in the file and thus the elements in the array below correspond to\n",
    "#the numbers in the names of the image files. (i.e. the 0th element corresponds\n",
    "#to output_img_0.fits)\n",
    "disk_bulge_mag = gal_para[\"Inte_Mag\"] - gal_para[\"Inte_Mag_2\"]"
   ]
  },
  {
   "cell_type": "markdown",
   "metadata": {
    "id": "4pDautJ1CWTy"
   },
   "source": [
    "Next, let's define two convenience functions, which will assist us in creating the image and label arrays. The first reshapes each data array to add a third dimension. The second function adds a vector that acts as a label for which type of galaxy the array represents. This label is determined by using the magnitudes calculated in the cell above."
   ]
  },
  {
   "cell_type": "code",
   "execution_count": 20,
   "metadata": {
    "id": "zWcg5PBi-RSL"
   },
   "outputs": [],
   "source": [
    "# Convenience Function to get and return images as numpy arrays\n",
    "\n",
    "def image_handler(i):\n",
    "  return np.reshape(fits.getdata(\"./train_images/output_img_\"+str(i)+\".fits\",\n",
    "                                 memmap=False),newshape=(167,167,1)) \n",
    "  #We use the reshape command just to add the extra 3rd dimension. The image is \n",
    "  #originally 167*167. So, in essence no re-sizing is taking place in the X or Y\n",
    "  #directions.\n",
    "\n",
    "\n",
    "# Convenience Function to get and return the training labels of each galaxy\n",
    "# in the one-hot encoding format. i.e. disk-dominated galaxies will be represented\n",
    "# by the array [1,0,0], bulge-dominated by [0,0,1] and indeterminate by [0,1,0]\n",
    "\n",
    "def label_handler(i):\n",
    "  \n",
    "  target_vect = [0]*3\n",
    "\n",
    "  if (disk_bulge_mag[i] < -0.22): #  (Lb/LT) < 0.45\n",
    "    target_vect[0] = 1  #disk-dominated       \n",
    "  \n",
    "  elif ( -0.22 <=  disk_bulge_mag[i] <= 0.22):\n",
    "      target_vect[1] = 1 #indeterminate\n",
    "  \n",
    "  else: #  (Lb/LT) > 0.55\n",
    "      target_vect[2] = 1 #bulge-dominated\n",
    "\n",
    "  return target_vect"
   ]
  },
  {
   "cell_type": "markdown",
   "metadata": {
    "id": "cQesQrpK-Pz2"
   },
   "source": [
    "Now, we are going to use the first 90 images to create the training set and the last 10 to create the validation set. We are multi-threading the process below -- although this is an absolute overkill for 100 images, it's very handy while dealing with large numbers of images. "
   ]
  },
  {
   "cell_type": "code",
   "execution_count": 21,
   "metadata": {
    "id": "U_SCF8wWDiSD"
   },
   "outputs": [],
   "source": [
    "from multiprocessing import Pool\n",
    "import numpy as np\n",
    "from astropy.io import fits\n",
    "\n",
    "NUM_THREADS = 2\n",
    "\n",
    "pl = Pool(NUM_THREADS)\n",
    "training_imgs = np.array(pl.map(image_handler,range(0,90)))\n",
    "training_labels = np.array(pl.map(label_handler,range(0,90)))\n",
    "\n",
    "valdiation_imgs = np.array(pl.map(image_handler,range(90,100)))\n",
    "validation_labels = np.array(pl.map(label_handler,range(90,100)))"
   ]
  },
  {
   "cell_type": "markdown",
   "metadata": {
    "id": "CNG1X-fSR8oC"
   },
   "source": [
    "There are two modules available for training GaMorNet:\n",
    "\n",
    " - `Keres`\n",
    " - `TFLearn`\n",
    "\n",
    " These two models function somewhat similarly, and differ primarily in terms of their individual efficacies in classifying bulge and disk galaxies. More info on these two approaches can be explored here: https://gamornet.readthedocs.io/en/latest/usage_guide.html"
   ]
  },
  {
   "cell_type": "markdown",
   "metadata": {
    "id": "Iw-l4YKMbLdK"
   },
   "source": [
    "## Training GaMorNet using Keras\n",
    "\n",
    "Now, we will be using the images and the labels generated above to train GaMorNet. Explore the documentation for `Keras` to learn about what each of these arguments represent in the `gamornet_train_keras` function:\n",
    "\n",
    "https://gamornet.readthedocs.io/en/latest/api_docs.html#gamornet.keras_module.gamornet_train_keras"
   ]
  },
  {
   "cell_type": "code",
   "execution_count": 22,
   "metadata": {
    "colab": {
     "base_uri": "https://localhost:8080/"
    },
    "id": "XBTLm74QbMnG",
    "outputId": "db1ae02d-02da-417e-da39-45786ff81e45"
   },
   "outputs": [
    {
     "name": "stdout",
     "output_type": "stream",
     "text": [
      "WARNING:tensorflow:From /tensorflow-1.15.2/python3.7/tensorflow_core/python/ops/resource_variable_ops.py:1630: calling BaseResourceVariable.__init__ (from tensorflow.python.ops.resource_variable_ops) with constraint is deprecated and will be removed in a future version.\n",
      "Instructions for updating:\n",
      "If using Keras pass *_constraint arguments to layers.\n",
      "WARNING:tensorflow:From /tensorflow-1.15.2/python3.7/keras/backend/tensorflow_backend.py:4070: The name tf.nn.max_pool is deprecated. Please use tf.nn.max_pool2d instead.\n",
      "\n",
      "WARNING:tensorflow:From /tensorflow-1.15.2/python3.7/keras/backend/tensorflow_backend.py:4074: The name tf.nn.avg_pool is deprecated. Please use tf.nn.avg_pool2d instead.\n",
      "\n",
      "WARNING:tensorflow:From /tensorflow-1.15.2/python3.7/tensorflow_core/python/ops/math_grad.py:1375: where (from tensorflow.python.ops.array_ops) is deprecated and will be removed in a future version.\n",
      "Instructions for updating:\n",
      "Use tf.where in 2.0, which has the same broadcast rule as np.where\n",
      "WARNING:tensorflow:From /tensorflow-1.15.2/python3.7/keras/backend/tensorflow_backend.py:422: The name tf.global_variables is deprecated. Please use tf.compat.v1.global_variables instead.\n",
      "\n",
      "WARNING:tensorflow:From /tensorflow-1.15.2/python3.7/keras/backend/tensorflow_backend.py:431: The name tf.is_variable_initialized is deprecated. Please use tf.compat.v1.is_variable_initialized instead.\n",
      "\n",
      "WARNING:tensorflow:From /tensorflow-1.15.2/python3.7/keras/backend/tensorflow_backend.py:438: The name tf.variables_initializer is deprecated. Please use tf.compat.v1.variables_initializer instead.\n",
      "\n",
      "Train on 90 samples, validate on 10 samples\n",
      "Epoch 1/50\n",
      "90/90 [==============================] - 6s 71ms/step - loss: 2.2536 - accuracy: 0.3000 - val_loss: 1.4437 - val_accuracy: 0.3000\n",
      "Epoch 2/50\n",
      "90/90 [==============================] - 0s 1ms/step - loss: 2.1874 - accuracy: 0.3444 - val_loss: 0.5938 - val_accuracy: 0.8000\n",
      "Epoch 3/50\n",
      "90/90 [==============================] - 0s 1ms/step - loss: 1.4789 - accuracy: 0.5333 - val_loss: 0.3037 - val_accuracy: 0.8000\n",
      "Epoch 4/50\n",
      "90/90 [==============================] - 0s 1ms/step - loss: 1.3745 - accuracy: 0.5889 - val_loss: 0.2684 - val_accuracy: 0.8000\n",
      "Epoch 5/50\n",
      "90/90 [==============================] - 0s 1ms/step - loss: 1.6632 - accuracy: 0.5556 - val_loss: 0.2961 - val_accuracy: 0.9000\n",
      "Epoch 6/50\n",
      "90/90 [==============================] - 0s 1ms/step - loss: 1.4881 - accuracy: 0.6111 - val_loss: 0.2484 - val_accuracy: 0.9000\n",
      "Epoch 7/50\n",
      "90/90 [==============================] - 0s 1ms/step - loss: 1.9793 - accuracy: 0.5556 - val_loss: 0.1858 - val_accuracy: 0.9000\n",
      "Epoch 8/50\n",
      "90/90 [==============================] - 0s 1ms/step - loss: 1.5082 - accuracy: 0.5889 - val_loss: 0.1569 - val_accuracy: 1.0000\n",
      "Epoch 9/50\n",
      "90/90 [==============================] - 0s 1ms/step - loss: 1.2687 - accuracy: 0.6667 - val_loss: 0.1556 - val_accuracy: 0.9000\n",
      "Epoch 10/50\n",
      "90/90 [==============================] - 0s 1ms/step - loss: 1.5150 - accuracy: 0.5000 - val_loss: 0.1500 - val_accuracy: 1.0000\n",
      "Epoch 11/50\n",
      "90/90 [==============================] - 0s 1ms/step - loss: 1.2286 - accuracy: 0.6667 - val_loss: 0.1633 - val_accuracy: 0.9000\n",
      "Epoch 12/50\n",
      "90/90 [==============================] - 0s 1ms/step - loss: 1.1014 - accuracy: 0.6111 - val_loss: 0.1711 - val_accuracy: 0.9000\n",
      "Epoch 13/50\n",
      "90/90 [==============================] - 0s 1ms/step - loss: 1.4534 - accuracy: 0.5333 - val_loss: 0.1938 - val_accuracy: 0.9000\n",
      "Epoch 14/50\n",
      "90/90 [==============================] - 0s 1ms/step - loss: 1.2896 - accuracy: 0.5667 - val_loss: 0.1621 - val_accuracy: 0.9000\n",
      "Epoch 15/50\n",
      "90/90 [==============================] - 0s 1ms/step - loss: 1.2088 - accuracy: 0.6111 - val_loss: 0.0835 - val_accuracy: 1.0000\n",
      "Epoch 16/50\n",
      "90/90 [==============================] - 0s 1ms/step - loss: 1.0955 - accuracy: 0.6667 - val_loss: 0.0671 - val_accuracy: 1.0000\n",
      "Epoch 17/50\n",
      "90/90 [==============================] - 0s 1ms/step - loss: 0.9332 - accuracy: 0.7333 - val_loss: 0.0983 - val_accuracy: 0.9000\n",
      "Epoch 18/50\n",
      "90/90 [==============================] - 0s 1ms/step - loss: 1.2941 - accuracy: 0.5778 - val_loss: 0.1117 - val_accuracy: 0.9000\n",
      "Epoch 19/50\n",
      "90/90 [==============================] - 0s 1ms/step - loss: 0.7451 - accuracy: 0.7222 - val_loss: 0.0746 - val_accuracy: 1.0000\n",
      "Epoch 20/50\n",
      "90/90 [==============================] - 0s 1ms/step - loss: 1.0376 - accuracy: 0.6333 - val_loss: 0.0458 - val_accuracy: 1.0000\n",
      "Epoch 21/50\n",
      "90/90 [==============================] - 0s 1ms/step - loss: 0.9166 - accuracy: 0.6778 - val_loss: 0.0428 - val_accuracy: 1.0000\n",
      "Epoch 22/50\n",
      "90/90 [==============================] - 0s 1ms/step - loss: 0.8118 - accuracy: 0.7222 - val_loss: 0.0475 - val_accuracy: 1.0000\n",
      "Epoch 23/50\n",
      "90/90 [==============================] - 0s 1ms/step - loss: 0.7915 - accuracy: 0.7444 - val_loss: 0.0636 - val_accuracy: 1.0000\n",
      "Epoch 24/50\n",
      "90/90 [==============================] - 0s 1ms/step - loss: 0.9023 - accuracy: 0.7000 - val_loss: 0.0712 - val_accuracy: 1.0000\n",
      "Epoch 25/50\n",
      "90/90 [==============================] - 0s 1ms/step - loss: 0.6421 - accuracy: 0.7444 - val_loss: 0.0630 - val_accuracy: 1.0000\n",
      "\n",
      "Epoch 00025: saving model to ./model_25.hdf5\n",
      "Epoch 26/50\n",
      "90/90 [==============================] - 0s 1ms/step - loss: 0.7833 - accuracy: 0.7444 - val_loss: 0.0668 - val_accuracy: 1.0000\n",
      "Epoch 27/50\n",
      "90/90 [==============================] - 0s 1ms/step - loss: 0.7643 - accuracy: 0.7667 - val_loss: 0.1070 - val_accuracy: 0.9000\n",
      "Epoch 28/50\n",
      "90/90 [==============================] - 0s 1ms/step - loss: 0.8184 - accuracy: 0.7000 - val_loss: 0.1396 - val_accuracy: 0.9000\n",
      "Epoch 29/50\n",
      "90/90 [==============================] - 0s 1ms/step - loss: 0.7159 - accuracy: 0.7889 - val_loss: 0.1418 - val_accuracy: 0.9000\n",
      "Epoch 30/50\n",
      "90/90 [==============================] - 0s 1ms/step - loss: 0.8174 - accuracy: 0.7444 - val_loss: 0.0954 - val_accuracy: 0.9000\n",
      "Epoch 31/50\n",
      "90/90 [==============================] - 0s 1ms/step - loss: 0.6014 - accuracy: 0.7556 - val_loss: 0.0540 - val_accuracy: 1.0000\n",
      "Epoch 32/50\n",
      "90/90 [==============================] - 0s 1ms/step - loss: 0.6561 - accuracy: 0.7556 - val_loss: 0.0361 - val_accuracy: 1.0000\n",
      "Epoch 33/50\n",
      "90/90 [==============================] - 0s 1ms/step - loss: 0.7419 - accuracy: 0.7111 - val_loss: 0.0493 - val_accuracy: 1.0000\n",
      "Epoch 34/50\n",
      "90/90 [==============================] - 0s 1ms/step - loss: 0.8156 - accuracy: 0.7556 - val_loss: 0.0312 - val_accuracy: 1.0000\n",
      "Epoch 35/50\n",
      "90/90 [==============================] - 0s 1ms/step - loss: 0.6309 - accuracy: 0.7889 - val_loss: 0.0498 - val_accuracy: 1.0000\n",
      "Epoch 36/50\n",
      "90/90 [==============================] - 0s 1ms/step - loss: 0.6582 - accuracy: 0.7444 - val_loss: 0.0969 - val_accuracy: 0.9000\n",
      "Epoch 37/50\n",
      "90/90 [==============================] - 0s 1ms/step - loss: 0.8399 - accuracy: 0.7556 - val_loss: 0.1465 - val_accuracy: 0.9000\n",
      "Epoch 38/50\n",
      "90/90 [==============================] - 0s 1ms/step - loss: 0.6635 - accuracy: 0.8000 - val_loss: 0.1425 - val_accuracy: 0.9000\n",
      "Epoch 39/50\n",
      "90/90 [==============================] - 0s 1ms/step - loss: 0.6322 - accuracy: 0.7333 - val_loss: 0.1029 - val_accuracy: 0.9000\n",
      "Epoch 40/50\n",
      "90/90 [==============================] - 0s 1ms/step - loss: 0.5675 - accuracy: 0.8111 - val_loss: 0.1030 - val_accuracy: 0.9000\n",
      "Epoch 41/50\n",
      "90/90 [==============================] - 0s 1ms/step - loss: 0.4636 - accuracy: 0.8222 - val_loss: 0.1055 - val_accuracy: 0.9000\n",
      "Epoch 42/50\n",
      "90/90 [==============================] - 0s 1ms/step - loss: 0.4393 - accuracy: 0.8111 - val_loss: 0.1261 - val_accuracy: 0.9000\n",
      "Epoch 43/50\n",
      "90/90 [==============================] - 0s 1ms/step - loss: 0.7188 - accuracy: 0.7222 - val_loss: 0.1279 - val_accuracy: 0.9000\n",
      "Epoch 44/50\n",
      "90/90 [==============================] - 0s 1ms/step - loss: 0.7699 - accuracy: 0.7444 - val_loss: 0.1334 - val_accuracy: 0.9000\n",
      "Epoch 45/50\n",
      "90/90 [==============================] - 0s 1ms/step - loss: 0.5292 - accuracy: 0.8222 - val_loss: 0.1559 - val_accuracy: 0.9000\n",
      "Epoch 46/50\n",
      "90/90 [==============================] - 0s 1ms/step - loss: 0.6459 - accuracy: 0.7000 - val_loss: 0.2591 - val_accuracy: 0.9000\n",
      "Epoch 47/50\n",
      "90/90 [==============================] - 0s 1ms/step - loss: 0.4870 - accuracy: 0.8000 - val_loss: 0.3454 - val_accuracy: 0.9000\n",
      "Epoch 48/50\n",
      "90/90 [==============================] - 0s 1ms/step - loss: 0.6885 - accuracy: 0.8111 - val_loss: 0.3060 - val_accuracy: 0.9000\n",
      "Epoch 49/50\n",
      "90/90 [==============================] - 0s 1ms/step - loss: 0.6049 - accuracy: 0.7778 - val_loss: 0.2265 - val_accuracy: 0.9000\n",
      "Epoch 50/50\n",
      "90/90 [==============================] - 0s 1ms/step - loss: 0.6873 - accuracy: 0.8222 - val_loss: 0.0905 - val_accuracy: 0.9000\n",
      "\n",
      "Epoch 00050: saving model to ./model_50.hdf5\n"
     ]
    }
   ],
   "source": [
    "from gamornet.keras_module import gamornet_train_keras\n",
    "\n",
    "model = gamornet_train_keras(training_imgs,training_labels,valdiation_imgs,\n",
    "                             validation_labels,input_shape='SDSS', epochs=50, \n",
    "                             checkpoint_freq=25, batch_size=64, lr=0.0001, \n",
    "                             loss='categorical_crossentropy')"
   ]
  },
  {
   "cell_type": "markdown",
   "metadata": {
    "id": "Fbzt1qHGG7ug"
   },
   "source": [
    "The above command trains a model using the images we prepared for 50 epochs using a learning rate of 0.0001 and a categorical cross-entropy loss function. The `checkpoint_freq = 25` parameter also ensures that every 25 epochs, a snapshot of the model is saved. These models are named as `model_x.hdf5` where x refers to the epoch at which the model was saved. The `input_shape` parameter specifies the shape of the input images. Setting this to `SDSS` automatically sets the value to `(167,167,1)`\n",
    "\n",
    "For an explanation of the different input parameters of `gamornet_train_keras`, please have a look at the [API documentation](https://gamornet.readthedocs.io/en/latest/api_docs.html).\n",
    "\n",
    "In the output above, the `accuracy` and `loss` refer to the metrics calculated on the training set at the end of each epoch while `val_loss` and `val_accuracy` refer to the metrics calculated on the validation data.\n",
    "\n",
    "It's really important to understand the `loss` and `accuracy` output in the context of machine learning.\n",
    "\n",
    " - A **loss function** is used to optimize a machine learning algorithm. The \"loss\" is calculated on training and validation and its interpretation is based on how well the model is doing in evaluating these two sets. The \"loss\" is the sum of errors made for each example in training or validation sets. Loss value implies how poorly or well a model behaves after each iteration of optimization.\n",
    "\n",
    " - An **accuracy metric** is used to measure the algorithm’s performance in an interpretable way. The accuracy of a model is usually determined after the model parameters and is calculated in the form of a percentage. It is the measure of how accurate your model's prediction is compared to the true data. For example, suppose you have 1000 test samples. If your model is able to classify 990 of them correctly, then the model’s accuracy will be 99.0%."
   ]
  },
  {
   "cell_type": "markdown",
   "metadata": {},
   "source": [
    "***\n",
    "\n",
    "#### Q - Read through the training output from `Keras` above. How do the loss and accuracy values evolve over time as the training proceeds? Provide an interpretation.\n",
    "\n",
    "***\n",
    "\n",
    "Ans. Here"
   ]
  },
  {
   "cell_type": "markdown",
   "metadata": {
    "id": "7qhQgRdXJtwE"
   },
   "source": [
    "Congrats! You have trained your first GaMorNet model!! You can have a look at the model's structure using the command below. "
   ]
  },
  {
   "cell_type": "code",
   "execution_count": 24,
   "metadata": {
    "colab": {
     "base_uri": "https://localhost:8080/"
    },
    "id": "3Fs124brJpVI",
    "outputId": "dfab29c6-a10d-4dee-97f6-c27571634f28"
   },
   "outputs": [
    {
     "name": "stdout",
     "output_type": "stream",
     "text": [
      "Model: \"sequential_1\"\n",
      "_________________________________________________________________\n",
      "Layer (type)                 Output Shape              Param #   \n",
      "=================================================================\n",
      "conv2d_1 (Conv2D)            (None, 42, 42, 96)        11712     \n",
      "_________________________________________________________________\n",
      "max_pooling2d_1 (MaxPooling2 (None, 21, 21, 96)        0         \n",
      "_________________________________________________________________\n",
      "local_response_normalization (None, 21, 21, 96)        0         \n",
      "_________________________________________________________________\n",
      "conv2d_2 (Conv2D)            (None, 21, 21, 256)       614656    \n",
      "_________________________________________________________________\n",
      "max_pooling2d_2 (MaxPooling2 (None, 11, 11, 256)       0         \n",
      "_________________________________________________________________\n",
      "local_response_normalization (None, 11, 11, 256)       0         \n",
      "_________________________________________________________________\n",
      "conv2d_3 (Conv2D)            (None, 11, 11, 384)       885120    \n",
      "_________________________________________________________________\n",
      "conv2d_4 (Conv2D)            (None, 11, 11, 384)       1327488   \n",
      "_________________________________________________________________\n",
      "conv2d_5 (Conv2D)            (None, 11, 11, 256)       884992    \n",
      "_________________________________________________________________\n",
      "max_pooling2d_3 (MaxPooling2 (None, 6, 6, 256)         0         \n",
      "_________________________________________________________________\n",
      "local_response_normalization (None, 6, 6, 256)         0         \n",
      "_________________________________________________________________\n",
      "flatten_1 (Flatten)          (None, 9216)              0         \n",
      "_________________________________________________________________\n",
      "dense_1 (Dense)              (None, 4096)              37752832  \n",
      "_________________________________________________________________\n",
      "dropout_1 (Dropout)          (None, 4096)              0         \n",
      "_________________________________________________________________\n",
      "dense_2 (Dense)              (None, 4096)              16781312  \n",
      "_________________________________________________________________\n",
      "dropout_2 (Dropout)          (None, 4096)              0         \n",
      "_________________________________________________________________\n",
      "dense_3 (Dense)              (None, 3)                 12291     \n",
      "=================================================================\n",
      "Total params: 58,270,403\n",
      "Trainable params: 58,270,403\n",
      "Non-trainable params: 0\n",
      "_________________________________________________________________\n"
     ]
    }
   ],
   "source": [
    "model.summary()"
   ]
  },
  {
   "cell_type": "markdown",
   "metadata": {
    "id": "AkVOkDibLMmD"
   },
   "source": [
    "**Important:**\n",
    "The above process also generates a `metrics.csv` file, which contains the loss and accuracy calculated on the validation as well as the training data. \n",
    "\n",
    "We highly recommend using the data in this file to check how the loss and accuracies vary with training. This is extremely helpful in judging whether the model was trained properly and sufficiently. "
   ]
  },
  {
   "cell_type": "markdown",
   "metadata": {
    "id": "DtKTEFpyHpHY"
   },
   "source": [
    "## Training `GaMorNet` using TFLearn\n",
    "\n",
    "Now, we will be using the images and the labels generated above to train GaMorNet using `TFLearn`.\n",
    "\n",
    "https://gamornet.readthedocs.io/en/latest/api_docs.html#module-gamornet.tflearn_module"
   ]
  },
  {
   "cell_type": "code",
   "execution_count": 25,
   "metadata": {
    "colab": {
     "base_uri": "https://localhost:8080/"
    },
    "id": "OUP-k-NtHpHa",
    "outputId": "bcccf25c-a4d8-495a-ccdd-e6c488ac674c"
   },
   "outputs": [
    {
     "name": "stdout",
     "output_type": "stream",
     "text": [
      "Training Step: 39  | total loss: \u001b[1m\u001b[32m0.65122\u001b[0m\u001b[0m | time: 0.056s\n",
      "| Momentum | epoch: 020 | loss: 0.65122 - acc: 0.7436 -- iter: 64/90\n",
      "Training Step: 40  | total loss: \u001b[1m\u001b[32m0.67761\u001b[0m\u001b[0m | time: 1.144s\n",
      "| Momentum | epoch: 020 | loss: 0.67761 - acc: 0.7196 | val_loss: 0.32650 - val_acc: 1.0000 -- iter: 90/90\n",
      "--\n"
     ]
    }
   ],
   "source": [
    "from gamornet.tflearn_module import gamornet_train_tflearn\n",
    "\n",
    "model = gamornet_train_tflearn(training_imgs,training_labels,valdiation_imgs,\n",
    "                             validation_labels,input_shape='SDSS', epochs=20, \n",
    "                             max_checkpoints=2, batch_size=64, lr=0.0001, \n",
    "                             loss='categorical_crossentropy',clear_session=True)"
   ]
  },
  {
   "cell_type": "markdown",
   "metadata": {
    "id": "u9StaWVvHpHe"
   },
   "source": [
    "The above command trains a model using the images we prepared for 20 epochs using a learning rate of 0.0001 and a categorical cross-entropy loss function. The `max_checkpoints = 2` parameter ensures that the latest 2 snapshots of the epochs will always be saved during training. Three files are saved for each snapshot and the naming format of the checkpoints is `check-x.data`,`check-x.index`,`check-x.meta` where x refers to the step number at which the model was saved. The `input_shape` parameter specifies the shape of the input images. Setting this to `SDSS` automatically sets the value to `(167,167,1)`. \n",
    "\n",
    "In the output above, the `acc` and `loss` refer to the accuracy and loss calculated on the training set at the end of each epoch while `val_loss` and `val_acc` refer to the metrics calculated on the validation data. \n",
    "\n",
    "The `clear_session = True` parameter value instructs GaMorNet to clear the TensorFlow graphs created earlier. We highly recommend setting `clear_session` to `True` in notebooks while using the `tflearn_module` as otherwise it might fail. \n",
    "\n",
    "For an explanation of the different input parameters of `gamornet_train_tflearn`, pelase have a look at the [API documentation](https://gamornet.readthedocs.io/en/latest/api_docs.html)."
   ]
  },
  {
   "cell_type": "markdown",
   "metadata": {
    "id": "rSoVi9LRMhUv"
   },
   "source": [
    "**Tip:** Unlike with the keras module, the tflearn module doesn't automatically save the metrics. Instead you have to redirect the Python output generated to a file in order to keep track of the metrics. \n",
    "\n",
    "When running some python script this can be done simply using `python script.py > out.txt`. This will save all the screen output in `out.txt`.\n",
    "\n",
    "Thereafter the following snippet of Python Code can easily search for the relevant metrics in the screen output file. \n",
    "\n",
    "```python\n",
    "###################################\n",
    "# accParser.py\n",
    "#\n",
    "# Takes tflearn screen output and extracts loss, acc and val_acc every epoch for visualization\n",
    "####################################\n",
    "import sys\n",
    "\n",
    "if (len(sys.argv) != 2):\n",
    "        print \"Exiting Program....\\nUsage: python accParser.py /path/to/screen/output\"\n",
    "\n",
    "\n",
    "dataPath = sys.argv[1] #the first argument is the path to the screen grab of the TF Learn run\n",
    "\n",
    "dataFile = open(dataPath, 'r')\n",
    "outFile = open(dataPath[:-6] + 'out.txt', 'w')\n",
    "\n",
    "outFile.write(\"epoch loss acc val_acc\\n\")\n",
    "resultLines = dataFile.readlines()\n",
    "\n",
    "for line in resultLines:\n",
    "        if 'val_acc' in line:\n",
    "                words = line.split()\n",
    "\n",
    "                #validation step\n",
    "                if words[-2:-1] != ['iter:']:\n",
    "                        print \"Something doesn't look right. Skipping an occurene of val_acc\"\n",
    "                        continue\n",
    "\n",
    "                outFile.write(words[words.index(\"epoch:\")+1] + \" \")\n",
    "                outFile.write(words[words.index(\"loss:\")+1] + \" \")\n",
    "                outFile.write(words[words.index(\"acc:\")+1] + \" \")\n",
    "                outFile.write(words[words.index(\"val_acc:\")+1] + \"\\n\")\n",
    "\n",
    "dataFile.close()\n",
    "outFile.close()\n",
    "\n",
    "```"
   ]
  },
  {
   "cell_type": "markdown",
   "metadata": {
    "id": "7CI4QJAROoGo"
   },
   "source": [
    "**Important:** We highly recommend checking how the loss and accuracies vary with training. This is extremely helpful in judging whether the model was trained properly and sufficiently. "
   ]
  },
  {
   "cell_type": "markdown",
   "metadata": {
    "id": "6Trd52HQV7xU"
   },
   "source": [
    "### Summary & Takeaways\n",
    "\n",
    "* `gamornet_train_keras` and `gamornet_train_tflearn` are the two functions that can be used to train GaMorNet models. \n",
    "\n",
    "* For understanding the differences between the Keras and TFLearn modules, please refer to the [PDR Handbook](https://gamornet.readthedocs.io/en/latest/usage_guide.html). \n",
    "\n",
    "* The [PDR Handbook](https://gamornet.readthedocs.io/en/latest/usage_guide.html) also contains advice about which situations warrant the training of models from scratch and in which cases you can use the models which we have released. "
   ]
  },
  {
   "cell_type": "markdown",
   "metadata": {
    "id": "OeTXxzWdXuAA"
   },
   "source": [
    "# Making Morphological Classification Predictions via `GaMorNet`\n",
    "\n",
    "Let's now used our trained neural network to start classifying galaxies in SDSS. For the purposes of this demonstration, we are going to use the models trained on SDSS simulations and real data in the paper. We are going to perform the prediction on two SDSS g-band images from our testing dataset. "
   ]
  },
  {
   "cell_type": "markdown",
   "metadata": {
    "id": "Qe2iJIlUYkJm"
   },
   "source": [
    "## Downloading & Visualizing the Data\n",
    "\n",
    "First, let's download the images that we are going to use to perform the predictive analysis. We will download these into the local filesystem from Yale Astronomy's FTP service, where these are hosted.\n",
    "\n",
    "\n",
    "*Tip: The `%%bash` command lets Colab know that all the commands in this shell needs to be passed the local unix virtual environment.*"
   ]
  },
  {
   "cell_type": "code",
   "execution_count": 26,
   "metadata": {
    "colab": {
     "base_uri": "https://localhost:8080/"
    },
    "id": "l-5Ivrh9VrEW",
    "outputId": "bf1cb4de-6e56-462c-bb06-a8ec6da7c1dc"
   },
   "outputs": [
    {
     "name": "stdout",
     "output_type": "stream",
     "text": [
      "./587722984439545906-g.fits\n",
      "./587725552281976904-g.fits\n"
     ]
    },
    {
     "name": "stderr",
     "output_type": "stream",
     "text": [
      "--2022-07-14 01:46:33--  ftp://ftp.astro.yale.edu/pub/aghosh/gamornet_tutorial_files/predict_images/predict_images.tar.gz\n",
      "           => ‘predict_images.tar.gz’\n",
      "Resolving ftp.astro.yale.edu (ftp.astro.yale.edu)... 128.36.139.12\n",
      "Connecting to ftp.astro.yale.edu (ftp.astro.yale.edu)|128.36.139.12|:21... connected.\n",
      "Logging in as anonymous ... Logged in!\n",
      "==> SYST ... done.    ==> PWD ... done.\n",
      "==> TYPE I ... done.  ==> CWD (1) /pub/aghosh/gamornet_tutorial_files/predict_images ... done.\n",
      "==> SIZE predict_images.tar.gz ... 70986\n",
      "==> PASV ... done.    ==> RETR predict_images.tar.gz ... done.\n",
      "Length: 70986 (69K) (unauthoritative)\n",
      "\n",
      "     0K .......... .......... .......... .......... .......... 72%  104K 0s\n",
      "    50K .......... .........                                  100%  130M=0.5s\n",
      "\n",
      "2022-07-14 01:46:37 (144 KB/s) - ‘predict_images.tar.gz’ saved [70986]\n",
      "\n"
     ]
    }
   ],
   "source": [
    "%%bash\n",
    "#get zip file from server\n",
    "wget ftp://ftp.astro.yale.edu/pub/aghosh/gamornet_tutorial_files/predict_images/predict_images.tar.gz\n",
    "\n",
    "#create new directory and unzip to it\n",
    "mkdir predict_images\n",
    "tar -xvf predict_images.tar.gz -C ./predict_images/"
   ]
  },
  {
   "cell_type": "markdown",
   "metadata": {
    "id": "X87eSs7NY622"
   },
   "source": [
    "Now, let's take a quick look at these two images."
   ]
  },
  {
   "cell_type": "code",
   "execution_count": 32,
   "metadata": {
    "colab": {
     "base_uri": "https://localhost:8080/",
     "height": 347
    },
    "id": "qB9Vv391Yt-X",
    "outputId": "9b3ab45d-56ac-4351-ed0f-388901c881f4"
   },
   "outputs": [
    {
     "data": {
      "text/plain": [
       "<matplotlib.image.AxesImage at 0x7fbfc8466b10>"
      ]
     },
     "execution_count": 32,
     "metadata": {},
     "output_type": "execute_result"
    },
    {
     "data": {
      "image/png": "[encoded data removed]",
      "text/plain": [
       "<Figure size 720x480 with 2 Axes>"
      ]
     },
     "metadata": {
      "needs_background": "light"
     },
     "output_type": "display_data"
    }
   ],
   "source": [
    "import matplotlib as mpl\n",
    "plt.figure(dpi=120)\n",
    "plt.subplot(1,2,1) #setting up 1st subplot\n",
    "\n",
    "#reading in the data and plotting the first image\n",
    "img_1_data = fits.getdata(\"./predict_images/587722984439545906-g.fits\")\n",
    "plt.imshow(img_1_data)\n",
    "\n",
    "plt.subplot(1,2,2) #setting up the 2nd subplot\n",
    "\n",
    "#reading in the data and plotting the second image\n",
    "img_2_data = fits.getdata(\"./predict_images/587725552281976904-g.fits\")\n",
    "plt.imshow(img_2_data)"
   ]
  },
  {
   "cell_type": "markdown",
   "metadata": {
    "id": "qFzzwV6Qbo88"
   },
   "source": [
    "## Performing Predictions with `Keras`\n",
    "\n",
    "Now, we will be using the models trained on SDSS simulations and real data from the paper in order to perform predictions on the two above images. "
   ]
  },
  {
   "cell_type": "code",
   "execution_count": 33,
   "metadata": {
    "colab": {
     "base_uri": "https://localhost:8080/"
    },
    "id": "c99RjJqYbsPn",
    "outputId": "f6780665-e42a-4b82-b8fe-3a9c5d42592e"
   },
   "outputs": [
    {
     "name": "stdout",
     "output_type": "stream",
     "text": [
      "Loading GaMorNet Model.....\n",
      "Fetching SDSS TL Weigths.....\n",
      "Performing Predictions.....\n"
     ]
    }
   ],
   "source": [
    "from gamornet.keras_module import gamornet_predict_keras\n",
    "\n",
    "#Adding an explicit third axis to the image data (as this is needed for\n",
    "#the GaMorNet function to work properly). Just to be clear the images\n",
    "#were already 167*167, so we are not resizing the X,Y dimensions in any\n",
    "#way\n",
    "img_1_data = np.reshape(img_1_data,newshape=(167,167,1))\n",
    "img_2_data = np.reshape(img_2_data,newshape=(167,167,1))\n",
    "img_array = np.array([img_1_data,img_2_data])\n",
    "\n",
    "#Performing Predictions\n",
    "predictions = gamornet_predict_keras(img_array, model_load_path='SDSS_tl', input_shape='SDSS', batch_size=64)"
   ]
  },
  {
   "cell_type": "markdown",
   "metadata": {
    "id": "em4hl8hvb7hw"
   },
   "source": [
    "The `model_load_path = 'SDSS_tl'` is a special parameter value which automatically downloads and uses the final SDSS model of the paper. The `input_shape` parameter specifies the shape of the input images. Setting this to `SDSS` automatically sets the value to `(167,167,1)`\n",
    "\n",
    " For an explanation of each of the arguments of `gamornet_predict_keras`, please have a look at the [API Documentation](https://gamornet.readthedocs.io/en/latest/api_docs.html)"
   ]
  },
  {
   "cell_type": "markdown",
   "metadata": {
    "id": "iUbDNlFCcWpR"
   },
   "source": [
    "## Understanding the Predictions Made By `Keras`"
   ]
  },
  {
   "cell_type": "code",
   "execution_count": 34,
   "metadata": {
    "colab": {
     "base_uri": "https://localhost:8080/"
    },
    "id": "sJMnlYiLb0Lq",
    "outputId": "5be2bca4-08f4-448b-93fb-a652883051b5"
   },
   "outputs": [
    {
     "data": {
      "text/plain": [
       "(2, 3)"
      ]
     },
     "execution_count": 34,
     "metadata": {},
     "output_type": "execute_result"
    }
   ],
   "source": [
    "predictions.shape"
   ]
  },
  {
   "cell_type": "markdown",
   "metadata": {
    "id": "wW11bh6Ucs05"
   },
   "source": [
    "As the above command shows, the returned predictions array is of the shape (# of images, 3) where for each image we have one single-dimensional array with 3 elements where\n",
    "\n",
    "* Element 0 is the probability for the image to be *disk-dominated*\n",
    "* Element 1 is the probability for the image to be *indeterminate*\n",
    "* Element 2 is the probability for the image to be *bulge-dominated*"
   ]
  },
  {
   "cell_type": "code",
   "execution_count": 39,
   "metadata": {
    "colab": {
     "base_uri": "https://localhost:8080/"
    },
    "id": "Arpjv6K7c_nj",
    "outputId": "9e8c099e-e650-4684-c92a-c11105559edb"
   },
   "outputs": [
    {
     "name": "stdout",
     "output_type": "stream",
     "text": [
      "[9.9598134e-01 3.9425851e-03 7.6107666e-05]\n",
      "[5.2933254e-05 6.2009869e-03 9.9374604e-01]\n"
     ]
    }
   ],
   "source": [
    "#1st image predictions \n",
    "print(predictions[0])\n",
    "\n",
    "#2nd image predictions\n",
    "print(predictions[1])"
   ]
  },
  {
   "cell_type": "markdown",
   "metadata": {
    "id": "0GttOA_yd0yI"
   },
   "source": [
    "As can be seen from the above arrays, GaMorNet predicts with 99.6% confidence that the first image is a disk-dominated galaxy and with 99.37% confidence that the second image is a bulge-dominated galaxy. \n",
    "\n",
    "These are indeed correct predictions as can be verified by investigating the light profiles of the galaxies in detail. \n",
    "\n",
    "*Tip: The number in the name of each image file refers to their SDSS Object ID*"
   ]
  },
  {
   "cell_type": "markdown",
   "metadata": {},
   "source": [
    "***\n",
    "\n",
    "#### Q - Reflect on the predictions you made earlier regarding applications for machine learning in astronomy. Where and why might it be advantageous to use neural networks to process astronomical data? Why, in particular, might it be useful in the context of galaxy studies?\n",
    "\n",
    "***\n",
    "\n",
    "Ans. Here"
   ]
  },
  {
   "cell_type": "markdown",
   "metadata": {},
   "source": [
    "That's it for today's tutorial! Congrats on making it all the way through to the end of our Python in Astronomy workshop!"
   ]
  },
  {
   "cell_type": "code",
   "execution_count": null,
   "metadata": {},
   "outputs": [],
   "source": []
  }
 ],
 "metadata": {
  "accelerator": "GPU",
  "colab": {
   "name": "Day 5 - Galaxy Classification with GaMorNet.ipynb",
   "provenance": []
  },
  "kernelspec": {
   "display_name": "Python 3",
   "language": "python",
   "name": "python3"
  },
  "language_info": {
   "codemirror_mode": {
    "name": "ipython",
    "version": 3
   },
   "file_extension": ".py",
   "mimetype": "text/x-python",
   "name": "python",
   "nbconvert_exporter": "python",
   "pygments_lexer": "ipython3",
   "version": "3.8.3"
  }
 },
 "nbformat": 4,
 "nbformat_minor": 1
}
